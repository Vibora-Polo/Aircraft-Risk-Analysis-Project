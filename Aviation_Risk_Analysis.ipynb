{
 "cells": [
  {
   "cell_type": "markdown",
   "metadata": {},
   "source": [
    "## Final Project Submission\n",
    "\n",
    "Please fill out:\n",
    "* Student name: JOHN AWALLAH OTHIM\n",
    "* Student pace: part time\n",
    "* Scheduled project review date/time: \n",
    "* Instructor name: BRIAN CHACHA\n",
    "* Blog post URL:\n"
   ]
  },
  {
   "cell_type": "markdown",
   "metadata": {},
   "source": [
    "## Objectives\n",
    "1. Identify Low-risk aircraft Models for acquisition\n",
    "2. Assess factors influencing Aircraft Safety and Reliability\n",
    "3. Generate Data-Driven Business Recommendations to guide executives"
   ]
  },
  {
   "cell_type": "markdown",
   "metadata": {},
   "source": [
    "## Loading the data\n",
    "The first step is to load the data"
   ]
  },
  {
   "cell_type": "code",
   "execution_count": 40,
   "metadata": {},
   "outputs": [],
   "source": [
    "import pandas as pd\n",
    "import csv\n",
    "import numpy as np\n",
    "df = pd.read_csv('Aviation_Data.csv')"
   ]
  },
  {
   "cell_type": "markdown",
   "metadata": {},
   "source": [
    "## Exploring the data and its structure"
   ]
  },
  {
   "cell_type": "code",
   "execution_count": 2,
   "metadata": {},
   "outputs": [
    {
     "name": "stdout",
     "output_type": "stream",
     "text": [
      "<class 'pandas.core.frame.DataFrame'>\n",
      "RangeIndex: 90348 entries, 0 to 90347\n",
      "Data columns (total 31 columns):\n",
      " #   Column                  Non-Null Count  Dtype  \n",
      "---  ------                  --------------  -----  \n",
      " 0   Event.Id                88889 non-null  object \n",
      " 1   Investigation.Type      90348 non-null  object \n",
      " 2   Accident.Number         88889 non-null  object \n",
      " 3   Event.Date              88889 non-null  object \n",
      " 4   Location                88837 non-null  object \n",
      " 5   Country                 88663 non-null  object \n",
      " 6   Latitude                34382 non-null  object \n",
      " 7   Longitude               34373 non-null  object \n",
      " 8   Airport.Code            50249 non-null  object \n",
      " 9   Airport.Name            52790 non-null  object \n",
      " 10  Injury.Severity         87889 non-null  object \n",
      " 11  Aircraft.damage         85695 non-null  object \n",
      " 12  Aircraft.Category       32287 non-null  object \n",
      " 13  Registration.Number     87572 non-null  object \n",
      " 14  Make                    88826 non-null  object \n",
      " 15  Model                   88797 non-null  object \n",
      " 16  Amateur.Built           88787 non-null  object \n",
      " 17  Number.of.Engines       82805 non-null  float64\n",
      " 18  Engine.Type             81812 non-null  object \n",
      " 19  FAR.Description         32023 non-null  object \n",
      " 20  Schedule                12582 non-null  object \n",
      " 21  Purpose.of.flight       82697 non-null  object \n",
      " 22  Air.carrier             16648 non-null  object \n",
      " 23  Total.Fatal.Injuries    77488 non-null  float64\n",
      " 24  Total.Serious.Injuries  76379 non-null  float64\n",
      " 25  Total.Minor.Injuries    76956 non-null  float64\n",
      " 26  Total.Uninjured         82977 non-null  float64\n",
      " 27  Weather.Condition       84397 non-null  object \n",
      " 28  Broad.phase.of.flight   61724 non-null  object \n",
      " 29  Report.Status           82508 non-null  object \n",
      " 30  Publication.Date        73659 non-null  object \n",
      "dtypes: float64(5), object(26)\n",
      "memory usage: 21.4+ MB\n"
     ]
    }
   ],
   "source": [
    "df.info()\n"
   ]
  },
  {
   "cell_type": "markdown",
   "metadata": {},
   "source": [
    "## Identifying the important columns\n",
    "The important columns identified using keys()"
   ]
  },
  {
   "cell_type": "code",
   "execution_count": 3,
   "metadata": {},
   "outputs": [
    {
     "data": {
      "text/plain": [
       "Index(['Event.Id', 'Investigation.Type', 'Accident.Number', 'Event.Date',\n",
       "       'Location', 'Country', 'Latitude', 'Longitude', 'Airport.Code',\n",
       "       'Airport.Name', 'Injury.Severity', 'Aircraft.damage',\n",
       "       'Aircraft.Category', 'Registration.Number', 'Make', 'Model',\n",
       "       'Amateur.Built', 'Number.of.Engines', 'Engine.Type', 'FAR.Description',\n",
       "       'Schedule', 'Purpose.of.flight', 'Air.carrier', 'Total.Fatal.Injuries',\n",
       "       'Total.Serious.Injuries', 'Total.Minor.Injuries', 'Total.Uninjured',\n",
       "       'Weather.Condition', 'Broad.phase.of.flight', 'Report.Status',\n",
       "       'Publication.Date'],\n",
       "      dtype='object')"
      ]
     },
     "execution_count": 3,
     "metadata": {},
     "output_type": "execute_result"
    }
   ],
   "source": [
    "df.columns\n",
    "#df.select_dtypes(include=['number']).columns"
   ]
  },
  {
   "cell_type": "markdown",
   "metadata": {},
   "source": [
    "## Based on the objectives, the following columns should be retained for analysis;\n",
    "\n",
    "'Event.Id', 'Accident.Number', 'Event.Date','Make', 'Model', 'Aircraft.Category', 'Engine.Type', 'Number.of.Engines', 'Aircraft.damage', 'Injury.Severity', 'Total.Fatal.Injuries', 'Total.Serious.Injuries', 'Total.Minor.Injuries', 'Total.Uninjured', 'Purpose.of.flight', 'Weather.Condition', 'Broad.phase.of.flight', 'Location', 'Country', 'Latitude', 'Longitude', 'Air.carrier', 'FAR.Description', 'Report.Status', 'Publication.Date'"
   ]
  },
  {
   "cell_type": "markdown",
   "metadata": {},
   "source": [
    "## Filter Data to only Relevant Columns"
   ]
  },
  {
   "cell_type": "code",
   "execution_count": 4,
   "metadata": {},
   "outputs": [],
   "source": [
    "Kept_columns = ['Event.Id', 'Accident.Number', 'Event.Date','Make', 'Model', 'Aircraft.Category', 'Engine.Type', 'Number.of.Engines', 'Aircraft.damage', 'Injury.Severity', 'Total.Fatal.Injuries', 'Total.Serious.Injuries', 'Total.Minor.Injuries', 'Total.Uninjured', 'Purpose.of.flight', 'Weather.Condition', 'Broad.phase.of.flight', 'Location', 'Country', 'Latitude', 'Longitude', 'Air.carrier', 'FAR.Description', 'Report.Status', 'Publication.Date']\n",
    "df_filtered = df[Kept_columns]"
   ]
  },
  {
   "cell_type": "code",
   "execution_count": 5,
   "metadata": {},
   "outputs": [
    {
     "data": {
      "text/html": [
       "<div>\n",
       "<style scoped>\n",
       "    .dataframe tbody tr th:only-of-type {\n",
       "        vertical-align: middle;\n",
       "    }\n",
       "\n",
       "    .dataframe tbody tr th {\n",
       "        vertical-align: top;\n",
       "    }\n",
       "\n",
       "    .dataframe thead th {\n",
       "        text-align: right;\n",
       "    }\n",
       "</style>\n",
       "<table border=\"1\" class=\"dataframe\">\n",
       "  <thead>\n",
       "    <tr style=\"text-align: right;\">\n",
       "      <th></th>\n",
       "      <th>Event.Id</th>\n",
       "      <th>Accident.Number</th>\n",
       "      <th>Event.Date</th>\n",
       "      <th>Make</th>\n",
       "      <th>Model</th>\n",
       "      <th>Aircraft.Category</th>\n",
       "      <th>Engine.Type</th>\n",
       "      <th>Number.of.Engines</th>\n",
       "      <th>Aircraft.damage</th>\n",
       "      <th>Injury.Severity</th>\n",
       "      <th>...</th>\n",
       "      <th>Weather.Condition</th>\n",
       "      <th>Broad.phase.of.flight</th>\n",
       "      <th>Location</th>\n",
       "      <th>Country</th>\n",
       "      <th>Latitude</th>\n",
       "      <th>Longitude</th>\n",
       "      <th>Air.carrier</th>\n",
       "      <th>FAR.Description</th>\n",
       "      <th>Report.Status</th>\n",
       "      <th>Publication.Date</th>\n",
       "    </tr>\n",
       "  </thead>\n",
       "  <tbody>\n",
       "    <tr>\n",
       "      <th>0</th>\n",
       "      <td>20001218X45444</td>\n",
       "      <td>SEA87LA080</td>\n",
       "      <td>1948-10-24</td>\n",
       "      <td>Stinson</td>\n",
       "      <td>108-3</td>\n",
       "      <td>NaN</td>\n",
       "      <td>Reciprocating</td>\n",
       "      <td>1.0</td>\n",
       "      <td>Destroyed</td>\n",
       "      <td>Fatal(2)</td>\n",
       "      <td>...</td>\n",
       "      <td>UNK</td>\n",
       "      <td>Cruise</td>\n",
       "      <td>MOOSE CREEK, ID</td>\n",
       "      <td>United States</td>\n",
       "      <td>NaN</td>\n",
       "      <td>NaN</td>\n",
       "      <td>NaN</td>\n",
       "      <td>NaN</td>\n",
       "      <td>Probable Cause</td>\n",
       "      <td>NaN</td>\n",
       "    </tr>\n",
       "    <tr>\n",
       "      <th>1</th>\n",
       "      <td>20001218X45447</td>\n",
       "      <td>LAX94LA336</td>\n",
       "      <td>1962-07-19</td>\n",
       "      <td>Piper</td>\n",
       "      <td>PA24-180</td>\n",
       "      <td>NaN</td>\n",
       "      <td>Reciprocating</td>\n",
       "      <td>1.0</td>\n",
       "      <td>Destroyed</td>\n",
       "      <td>Fatal(4)</td>\n",
       "      <td>...</td>\n",
       "      <td>UNK</td>\n",
       "      <td>Unknown</td>\n",
       "      <td>BRIDGEPORT, CA</td>\n",
       "      <td>United States</td>\n",
       "      <td>NaN</td>\n",
       "      <td>NaN</td>\n",
       "      <td>NaN</td>\n",
       "      <td>NaN</td>\n",
       "      <td>Probable Cause</td>\n",
       "      <td>19-09-1996</td>\n",
       "    </tr>\n",
       "    <tr>\n",
       "      <th>2</th>\n",
       "      <td>20061025X01555</td>\n",
       "      <td>NYC07LA005</td>\n",
       "      <td>1974-08-30</td>\n",
       "      <td>Cessna</td>\n",
       "      <td>172M</td>\n",
       "      <td>NaN</td>\n",
       "      <td>Reciprocating</td>\n",
       "      <td>1.0</td>\n",
       "      <td>Destroyed</td>\n",
       "      <td>Fatal(3)</td>\n",
       "      <td>...</td>\n",
       "      <td>IMC</td>\n",
       "      <td>Cruise</td>\n",
       "      <td>Saltville, VA</td>\n",
       "      <td>United States</td>\n",
       "      <td>36.9222</td>\n",
       "      <td>-81.8781</td>\n",
       "      <td>NaN</td>\n",
       "      <td>NaN</td>\n",
       "      <td>Probable Cause</td>\n",
       "      <td>26-02-2007</td>\n",
       "    </tr>\n",
       "    <tr>\n",
       "      <th>3</th>\n",
       "      <td>20001218X45448</td>\n",
       "      <td>LAX96LA321</td>\n",
       "      <td>1977-06-19</td>\n",
       "      <td>Rockwell</td>\n",
       "      <td>112</td>\n",
       "      <td>NaN</td>\n",
       "      <td>Reciprocating</td>\n",
       "      <td>1.0</td>\n",
       "      <td>Destroyed</td>\n",
       "      <td>Fatal(2)</td>\n",
       "      <td>...</td>\n",
       "      <td>IMC</td>\n",
       "      <td>Cruise</td>\n",
       "      <td>EUREKA, CA</td>\n",
       "      <td>United States</td>\n",
       "      <td>NaN</td>\n",
       "      <td>NaN</td>\n",
       "      <td>NaN</td>\n",
       "      <td>NaN</td>\n",
       "      <td>Probable Cause</td>\n",
       "      <td>12-09-2000</td>\n",
       "    </tr>\n",
       "    <tr>\n",
       "      <th>4</th>\n",
       "      <td>20041105X01764</td>\n",
       "      <td>CHI79FA064</td>\n",
       "      <td>1979-08-02</td>\n",
       "      <td>Cessna</td>\n",
       "      <td>501</td>\n",
       "      <td>NaN</td>\n",
       "      <td>NaN</td>\n",
       "      <td>NaN</td>\n",
       "      <td>Destroyed</td>\n",
       "      <td>Fatal(1)</td>\n",
       "      <td>...</td>\n",
       "      <td>VMC</td>\n",
       "      <td>Approach</td>\n",
       "      <td>Canton, OH</td>\n",
       "      <td>United States</td>\n",
       "      <td>NaN</td>\n",
       "      <td>NaN</td>\n",
       "      <td>NaN</td>\n",
       "      <td>NaN</td>\n",
       "      <td>Probable Cause</td>\n",
       "      <td>16-04-1980</td>\n",
       "    </tr>\n",
       "  </tbody>\n",
       "</table>\n",
       "<p>5 rows × 25 columns</p>\n",
       "</div>"
      ],
      "text/plain": [
       "         Event.Id Accident.Number  Event.Date      Make     Model  \\\n",
       "0  20001218X45444      SEA87LA080  1948-10-24   Stinson     108-3   \n",
       "1  20001218X45447      LAX94LA336  1962-07-19     Piper  PA24-180   \n",
       "2  20061025X01555      NYC07LA005  1974-08-30    Cessna      172M   \n",
       "3  20001218X45448      LAX96LA321  1977-06-19  Rockwell       112   \n",
       "4  20041105X01764      CHI79FA064  1979-08-02    Cessna       501   \n",
       "\n",
       "  Aircraft.Category    Engine.Type  Number.of.Engines Aircraft.damage  \\\n",
       "0               NaN  Reciprocating                1.0       Destroyed   \n",
       "1               NaN  Reciprocating                1.0       Destroyed   \n",
       "2               NaN  Reciprocating                1.0       Destroyed   \n",
       "3               NaN  Reciprocating                1.0       Destroyed   \n",
       "4               NaN            NaN                NaN       Destroyed   \n",
       "\n",
       "  Injury.Severity  ...  Weather.Condition  Broad.phase.of.flight  \\\n",
       "0        Fatal(2)  ...                UNK                 Cruise   \n",
       "1        Fatal(4)  ...                UNK                Unknown   \n",
       "2        Fatal(3)  ...                IMC                 Cruise   \n",
       "3        Fatal(2)  ...                IMC                 Cruise   \n",
       "4        Fatal(1)  ...                VMC               Approach   \n",
       "\n",
       "          Location        Country Latitude Longitude Air.carrier  \\\n",
       "0  MOOSE CREEK, ID  United States      NaN       NaN         NaN   \n",
       "1   BRIDGEPORT, CA  United States      NaN       NaN         NaN   \n",
       "2    Saltville, VA  United States  36.9222  -81.8781         NaN   \n",
       "3       EUREKA, CA  United States      NaN       NaN         NaN   \n",
       "4       Canton, OH  United States      NaN       NaN         NaN   \n",
       "\n",
       "  FAR.Description   Report.Status Publication.Date  \n",
       "0             NaN  Probable Cause              NaN  \n",
       "1             NaN  Probable Cause       19-09-1996  \n",
       "2             NaN  Probable Cause       26-02-2007  \n",
       "3             NaN  Probable Cause       12-09-2000  \n",
       "4             NaN  Probable Cause       16-04-1980  \n",
       "\n",
       "[5 rows x 25 columns]"
      ]
     },
     "execution_count": 5,
     "metadata": {},
     "output_type": "execute_result"
    }
   ],
   "source": [
    "df_filtered.head()"
   ]
  },
  {
   "cell_type": "code",
   "execution_count": 6,
   "metadata": {},
   "outputs": [],
   "source": [
    "available = [c for c in Kept_columns if c in df_filtered.columns]\n",
    "df_filtered = df_filtered[available].copy()"
   ]
  },
  {
   "cell_type": "code",
   "execution_count": 7,
   "metadata": {},
   "outputs": [],
   "source": [
    "for x in ['Event.Date', 'Publication.Date']:\n",
    "    if x in df_filtered:\n",
    "        df_filtered[x] = pd.to_datetime(df_filtered[x], errors= 'coerce')"
   ]
  },
  {
   "cell_type": "markdown",
   "metadata": {},
   "source": [
    "## DATA CLEANING"
   ]
  },
  {
   "cell_type": "markdown",
   "metadata": {},
   "source": [
    "## Identify numerical columns and make sure they are numeric"
   ]
  },
  {
   "cell_type": "code",
   "execution_count": 8,
   "metadata": {},
   "outputs": [
    {
     "name": "stdout",
     "output_type": "stream",
     "text": [
      "['Total.Fatal.Injuries', 'Total.Serious.Injuries', 'Total.Minor.Injuries', 'Total.Uninjured', 'Number.of.Engines', 'Latitude', 'Longitude']\n"
     ]
    }
   ],
   "source": [
    "numerical_columns = ['Total.Fatal.Injuries', 'Total.Serious.Injuries', 'Total.Minor.Injuries', 'Total.Uninjured', 'Number.of.Engines', 'Latitude', 'Longitude']\n",
    "print(numerical_columns)"
   ]
  },
  {
   "cell_type": "code",
   "execution_count": 9,
   "metadata": {},
   "outputs": [
    {
     "data": {
      "text/plain": [
       "Total.Fatal.Injuries      float64\n",
       "Total.Serious.Injuries    float64\n",
       "Total.Minor.Injuries      float64\n",
       "Total.Uninjured           float64\n",
       "Number.of.Engines         float64\n",
       "Latitude                  float64\n",
       "Longitude                 float64\n",
       "dtype: object"
      ]
     },
     "execution_count": 9,
     "metadata": {},
     "output_type": "execute_result"
    }
   ],
   "source": [
    "for x in [x for x in numerical_columns if x in df_filtered.columns]:\n",
    "    df_filtered[x] = pd.to_numeric(df_filtered[x], errors='coerce')\n",
    "df_filtered[numerical_columns].dtypes"
   ]
  },
  {
   "cell_type": "markdown",
   "metadata": {},
   "source": [
    "## Text Columns Cleaning"
   ]
  },
  {
   "cell_type": "code",
   "execution_count": 10,
   "metadata": {},
   "outputs": [],
   "source": [
    "cat_columns = ['Make', 'Model', 'Aircraft.Category', 'Engine.Type', 'Aircraft.damage', 'Injury.Severity', 'Purpose.of.flight', 'Weather.Condition', 'Broad.phase.of.flight', 'Location', 'Country', 'Air.carrier', 'FAR.Description', 'Report.Status']\n",
    "for x in [x for x in cat_columns if x in df_filtered]:\n",
    "    df_filtered[x] = (df_filtered[x].astype(str).str.strip()\n",
    "             .replace({'nan': '', 'None':'', 'NaN': ''}, regex=False))\n",
    "    df_filtered[x] = df_filtered[x].replace('', np.nan).fillna('Unknown')"
   ]
  },
  {
   "cell_type": "markdown",
   "metadata": {},
   "source": [
    "## removal of Duplicates"
   ]
  },
  {
   "cell_type": "code",
   "execution_count": 11,
   "metadata": {},
   "outputs": [],
   "source": [
    "event_columns = [x for x in ['Event.Id', 'Accident.Number'] if x in df_filtered]\n",
    "if event_columns:\n",
    "    df_filtered = df_filtered.drop_duplicates(subset=event_columns)"
   ]
  },
  {
   "cell_type": "markdown",
   "metadata": {},
   "source": [
    "Fill in missing values"
   ]
  },
  {
   "cell_type": "code",
   "execution_count": 12,
   "metadata": {},
   "outputs": [
    {
     "name": "stderr",
     "output_type": "stream",
     "text": [
      "c:\\Users\\USER\\anaconda3\\envs\\learn-env\\lib\\site-packages\\numpy\\lib\\nanfunctions.py:1113: RuntimeWarning: Mean of empty slice\n",
      "  return np.nanmean(a, axis, out=out, keepdims=keepdims)\n"
     ]
    }
   ],
   "source": [
    "for x in ['Total.Fatal.Injuries', 'Total.Serious.Injuries', 'Total.Minor.Injuries', 'Total.Uninjured']:\n",
    "    if x in df_filtered.columns:\n",
    "        df_filtered[x] = df_filtered[x].fillna(0)\n",
    "\n",
    "#Missing number of engines\n",
    "if 'Number.of.Engines' in df_filtered.columns:\n",
    "    df_filtered['Number.of.Engines'] = (\n",
    "        df_filtered.groupby('Model', dropna=False)['Number.of.Engines']\n",
    "        .transform(lambda g:g.fillna(g.median()))\n",
    "    )\n",
    "    global_median = df_filtered['Number.of.Engines'].median()\n",
    "    df_filtered['Number.of.Engines'] = df_filtered['Number.of.Engines'].fillna(global_median)"
   ]
  },
  {
   "cell_type": "code",
   "execution_count": 13,
   "metadata": {},
   "outputs": [
    {
     "data": {
      "text/plain": [
       "Total.Fatal.Injuries      0\n",
       "Total.Serious.Injuries    0\n",
       "Total.Minor.Injuries      0\n",
       "Total.Uninjured           0\n",
       "Number.of.Engines         0\n",
       "dtype: int64"
      ]
     },
     "execution_count": 13,
     "metadata": {},
     "output_type": "execute_result"
    }
   ],
   "source": [
    "df_filtered[['Total.Fatal.Injuries', 'Total.Serious.Injuries', 'Total.Minor.Injuries', 'Total.Uninjured', 'Number.of.Engines']].isna().sum()"
   ]
  },
  {
   "cell_type": "markdown",
   "metadata": {},
   "source": [
    "## DATA ANALYSIS\n",
    "# Creating fatality and survival rates\n",
    "This are metrics to help rank the aircraft models on the basis of their safety\n"
   ]
  },
  {
   "cell_type": "code",
   "execution_count": 14,
   "metadata": {},
   "outputs": [],
   "source": [
    "#Creating a new column of total persons involved in each event\n",
    "cols = ['Total.Fatal.Injuries', 'Total.Serious.Injuries', 'Total.Minor.Injuries', 'Total.Uninjured']\n",
    "#sum across those columns\n",
    "df_filtered['Total.People'] = df_filtered[cols].sum(axis=1, min_count=1)"
   ]
  },
  {
   "cell_type": "code",
   "execution_count": 15,
   "metadata": {},
   "outputs": [],
   "source": [
    "df_filtered['Total.People'] = df_filtered['Total.People'].replace(0, np.nan)"
   ]
  },
  {
   "cell_type": "code",
   "execution_count": 16,
   "metadata": {},
   "outputs": [
    {
     "name": "stdout",
     "output_type": "stream",
     "text": [
      "Index(['Event.Id', 'Accident.Number', 'Event.Date', 'Make', 'Model',\n",
      "       'Aircraft.Category', 'Engine.Type', 'Number.of.Engines',\n",
      "       'Aircraft.damage', 'Injury.Severity', 'Total.Fatal.Injuries',\n",
      "       'Total.Serious.Injuries', 'Total.Minor.Injuries', 'Total.Uninjured',\n",
      "       'Purpose.of.flight', 'Weather.Condition', 'Broad.phase.of.flight',\n",
      "       'Location', 'Country', 'Latitude', 'Longitude', 'Air.carrier',\n",
      "       'FAR.Description', 'Report.Status', 'Publication.Date', 'Total.People'],\n",
      "      dtype='object')\n"
     ]
    }
   ],
   "source": [
    "print(df_filtered.columns)"
   ]
  },
  {
   "cell_type": "code",
   "execution_count": 17,
   "metadata": {},
   "outputs": [],
   "source": [
    "#denominator (avoid divide-by-zero and non-numeric issues)\n",
    "den = pd.to_numeric(df_filtered['Total.People'], errors='coerce')\n",
    "fatal = pd.to_numeric(df_filtered['Total.Fatal.Injuries'], errors='coerce')\n",
    "uninjured = pd.to_numeric(df_filtered['Total.Uninjured'], errors='coerce')"
   ]
  },
  {
   "cell_type": "code",
   "execution_count": 18,
   "metadata": {},
   "outputs": [],
   "source": [
    "df_filtered['Fatality.Rate'] = np.divide(\n",
    "    fatal, den, out=np.full(den.shape, np.nan, dtype='float64'), where=den>0\n",
    ")\n",
    "df_filtered['Survival.Rate'] = np.divide(\n",
    "    uninjured, den, out=np.full(den.shape, np.nan, dtype='float64'), where=den>0\n",
    ")\n",
    "df_filtered[['Fatality.Rate', 'Survival.Rate']] = (\n",
    "    df_filtered[['Fatality.Rate', 'Survival.Rate']]\n",
    "    .replace([np.inf, -np.inf], np.nan)\n",
    "    .clip(0, 1)\n",
    ")"
   ]
  },
  {
   "cell_type": "markdown",
   "metadata": {},
   "source": [
    "# Summary of the severity of the accident"
   ]
  },
  {
   "cell_type": "code",
   "execution_count": 19,
   "metadata": {},
   "outputs": [],
   "source": [
    "Accident_weights = (\n",
    "    3*df_filtered['Total.Fatal.Injuries'] +\n",
    "    2*df_filtered['Total.Serious.Injuries']+\n",
    "    1*df_filtered['Total.Minor.Injuries']\n",
    ")\n",
    "df_filtered['Severity.Index'] = np.where(\n",
    "    den > 0,\n",
    "    Accident_weights/(3 * den),\n",
    "    np.nan\n",
    ")\n",
    "df_filtered['Severity.Index'] = (\n",
    "    df_filtered['Severity.Index']\n",
    "    .replace([np.inf, -np.inf], np.nan)\n",
    "    .fillna(0)\n",
    ")"
   ]
  },
  {
   "cell_type": "markdown",
   "metadata": {},
   "source": [
    "# Effect of weather conditions"
   ]
  },
  {
   "cell_type": "code",
   "execution_count": 20,
   "metadata": {},
   "outputs": [],
   "source": [
    "wc = df_filtered['Weather.Condition'].str.lower()\n",
    "df_filtered['Weather.Clean'] = np.select(\n",
    "    [\n",
    "        wc.str.contains('imc|instrument', na=False),\n",
    "        wc.str.contains('snow|rain|storm|wind|fog|icing|hail|microburst', na=False),\n",
    "        wc.str.contains('vmc|visual|clear', na=False)\n",
    "    ],\n",
    "    ['IMC', 'Adverse', 'VMC'],\n",
    "    default='Unknown'\n",
    ")"
   ]
  },
  {
   "cell_type": "markdown",
   "metadata": {},
   "source": [
    "## Flight Phase Realignment\n",
    "This will help highlight when most flight incidents occur\n"
   ]
  },
  {
   "cell_type": "code",
   "execution_count": 21,
   "metadata": {},
   "outputs": [],
   "source": [
    "fp = df_filtered['Broad.phase.of.flight'].str.lower()\n",
    "df_filtered['Phase.Group'] = np.select(\n",
    "    [\n",
    "        fp.str.contains('takeoff|initial climb|taxi', na=False),\n",
    "        fp.str.contains('approach|landing|flare|go-around', na=False),\n",
    "        fp.str.contains('enroute|cruise', na=False)\n",
    "    ],\n",
    "    ['Takeoff', 'Landing', 'Cruise'],\n",
    "    default='Other'\n",
    ")"
   ]
  },
  {
   "cell_type": "markdown",
   "metadata": {},
   "source": [
    "## Trend Analysis of Time of the Event\n",
    "Extract year to show trend"
   ]
  },
  {
   "cell_type": "code",
   "execution_count": 22,
   "metadata": {},
   "outputs": [],
   "source": [
    "df_filtered['Event.Year'] = df_filtered['Event.Date'].dt.year"
   ]
  },
  {
   "cell_type": "code",
   "execution_count": 23,
   "metadata": {},
   "outputs": [
    {
     "data": {
      "text/html": [
       "<div>\n",
       "<style scoped>\n",
       "    .dataframe tbody tr th:only-of-type {\n",
       "        vertical-align: middle;\n",
       "    }\n",
       "\n",
       "    .dataframe tbody tr th {\n",
       "        vertical-align: top;\n",
       "    }\n",
       "\n",
       "    .dataframe thead th {\n",
       "        text-align: right;\n",
       "    }\n",
       "</style>\n",
       "<table border=\"1\" class=\"dataframe\">\n",
       "  <thead>\n",
       "    <tr style=\"text-align: right;\">\n",
       "      <th></th>\n",
       "      <th>Make</th>\n",
       "      <th>Model</th>\n",
       "      <th>Fatality.Rate</th>\n",
       "      <th>Survival.Rate</th>\n",
       "      <th>Severity.Index</th>\n",
       "      <th>Weather.Clean</th>\n",
       "      <th>Phase.Group</th>\n",
       "      <th>Event.Year</th>\n",
       "    </tr>\n",
       "  </thead>\n",
       "  <tbody>\n",
       "    <tr>\n",
       "      <th>0</th>\n",
       "      <td>Stinson</td>\n",
       "      <td>108-3</td>\n",
       "      <td>1.000000</td>\n",
       "      <td>0.0</td>\n",
       "      <td>1.000000</td>\n",
       "      <td>Unknown</td>\n",
       "      <td>Cruise</td>\n",
       "      <td>1948.0</td>\n",
       "    </tr>\n",
       "    <tr>\n",
       "      <th>1</th>\n",
       "      <td>Piper</td>\n",
       "      <td>PA24-180</td>\n",
       "      <td>1.000000</td>\n",
       "      <td>0.0</td>\n",
       "      <td>1.000000</td>\n",
       "      <td>Unknown</td>\n",
       "      <td>Other</td>\n",
       "      <td>1962.0</td>\n",
       "    </tr>\n",
       "    <tr>\n",
       "      <th>2</th>\n",
       "      <td>Cessna</td>\n",
       "      <td>172M</td>\n",
       "      <td>1.000000</td>\n",
       "      <td>0.0</td>\n",
       "      <td>1.000000</td>\n",
       "      <td>IMC</td>\n",
       "      <td>Cruise</td>\n",
       "      <td>1974.0</td>\n",
       "    </tr>\n",
       "    <tr>\n",
       "      <th>3</th>\n",
       "      <td>Rockwell</td>\n",
       "      <td>112</td>\n",
       "      <td>1.000000</td>\n",
       "      <td>0.0</td>\n",
       "      <td>1.000000</td>\n",
       "      <td>IMC</td>\n",
       "      <td>Cruise</td>\n",
       "      <td>1977.0</td>\n",
       "    </tr>\n",
       "    <tr>\n",
       "      <th>4</th>\n",
       "      <td>Cessna</td>\n",
       "      <td>501</td>\n",
       "      <td>0.333333</td>\n",
       "      <td>0.0</td>\n",
       "      <td>0.777778</td>\n",
       "      <td>VMC</td>\n",
       "      <td>Landing</td>\n",
       "      <td>1979.0</td>\n",
       "    </tr>\n",
       "  </tbody>\n",
       "</table>\n",
       "</div>"
      ],
      "text/plain": [
       "       Make     Model  Fatality.Rate  Survival.Rate  Severity.Index  \\\n",
       "0   Stinson     108-3       1.000000            0.0        1.000000   \n",
       "1     Piper  PA24-180       1.000000            0.0        1.000000   \n",
       "2    Cessna      172M       1.000000            0.0        1.000000   \n",
       "3  Rockwell       112       1.000000            0.0        1.000000   \n",
       "4    Cessna       501       0.333333            0.0        0.777778   \n",
       "\n",
       "  Weather.Clean Phase.Group  Event.Year  \n",
       "0       Unknown      Cruise      1948.0  \n",
       "1       Unknown       Other      1962.0  \n",
       "2           IMC      Cruise      1974.0  \n",
       "3           IMC      Cruise      1977.0  \n",
       "4           VMC     Landing      1979.0  "
      ]
     },
     "execution_count": 23,
     "metadata": {},
     "output_type": "execute_result"
    }
   ],
   "source": [
    "df_filtered[['Make', 'Model', 'Fatality.Rate', 'Survival.Rate', 'Severity.Index', 'Weather.Clean', 'Phase.Group', 'Event.Year']].head()"
   ]
  },
  {
   "cell_type": "markdown",
   "metadata": {},
   "source": [
    "In order to answer the first objective; Identifying low-risk aircraft models for acquisition, we need to compute the safety metrics per aircraft model using average fatality rate, average severity, and count of incidents per model"
   ]
  },
  {
   "cell_type": "code",
   "execution_count": 24,
   "metadata": {},
   "outputs": [],
   "source": [
    "for col in ['Fatality.Rate', 'Severity.Index', 'Survival.Rate']:\n",
    "    df_filtered[col] = pd.to_numeric(df_filtered[col], errors='coerce')\n",
    "#Group by model\n",
    "model_summary = (\n",
    "    df_filtered.groupby(['Make', 'Model'])\n",
    "    .agg(\n",
    "        Accidents = ('Event.Id', 'count'),\n",
    "        Avg_Fatality_Rate = ('Fatality.Rate', 'mean'),\n",
    "        Avg_Severity = ('Severity.Index', 'mean'),\n",
    "        Avg_Survival_Rate = ('Survival.Rate', 'mean')\n",
    "    )\n",
    "    .reset_index()\n",
    ")"
   ]
  },
  {
   "cell_type": "code",
   "execution_count": 25,
   "metadata": {},
   "outputs": [],
   "source": [
    "#Include a safety score\n",
    "model_summary['Safety.Score'] = 1- (\n",
    "    model_summary['Avg_Fatality_Rate'] * 0.6 + \n",
    "    model_summary['Avg_Severity'] * 0.4\n",
    ")"
   ]
  },
  {
   "cell_type": "markdown",
   "metadata": {},
   "source": [
    "Exclude events with few incidents (<30); models with fewer than 30 accidents were excluded to reduce statistical noise in the safety score computation"
   ]
  },
  {
   "cell_type": "code",
   "execution_count": 26,
   "metadata": {},
   "outputs": [],
   "source": [
    "model_summary = model_summary[model_summary['Accidents'] >= 30]"
   ]
  },
  {
   "cell_type": "markdown",
   "metadata": {},
   "source": [
    "Ranking the models by safety"
   ]
  },
  {
   "cell_type": "code",
   "execution_count": 27,
   "metadata": {},
   "outputs": [
    {
     "data": {
      "text/html": [
       "<div>\n",
       "<style scoped>\n",
       "    .dataframe tbody tr th:only-of-type {\n",
       "        vertical-align: middle;\n",
       "    }\n",
       "\n",
       "    .dataframe tbody tr th {\n",
       "        vertical-align: top;\n",
       "    }\n",
       "\n",
       "    .dataframe thead th {\n",
       "        text-align: right;\n",
       "    }\n",
       "</style>\n",
       "<table border=\"1\" class=\"dataframe\">\n",
       "  <thead>\n",
       "    <tr style=\"text-align: right;\">\n",
       "      <th></th>\n",
       "      <th>Make</th>\n",
       "      <th>Model</th>\n",
       "      <th>Accidents</th>\n",
       "      <th>Avg_Fatality_Rate</th>\n",
       "      <th>Avg_Severity</th>\n",
       "      <th>Avg_Survival_Rate</th>\n",
       "      <th>Safety.Score</th>\n",
       "    </tr>\n",
       "  </thead>\n",
       "  <tbody>\n",
       "    <tr>\n",
       "      <th>14454</th>\n",
       "      <td>PIPER</td>\n",
       "      <td>PA25</td>\n",
       "      <td>32</td>\n",
       "      <td>0.733333</td>\n",
       "      <td>0.750000</td>\n",
       "      <td>0.166667</td>\n",
       "      <td>0.260000</td>\n",
       "    </tr>\n",
       "    <tr>\n",
       "      <th>15936</th>\n",
       "      <td>ROBINSON</td>\n",
       "      <td>R44</td>\n",
       "      <td>142</td>\n",
       "      <td>0.521766</td>\n",
       "      <td>0.597809</td>\n",
       "      <td>0.248756</td>\n",
       "      <td>0.447817</td>\n",
       "    </tr>\n",
       "    <tr>\n",
       "      <th>9838</th>\n",
       "      <td>Grumman American</td>\n",
       "      <td>AA-5</td>\n",
       "      <td>31</td>\n",
       "      <td>0.451613</td>\n",
       "      <td>0.543011</td>\n",
       "      <td>0.362903</td>\n",
       "      <td>0.511828</td>\n",
       "    </tr>\n",
       "    <tr>\n",
       "      <th>14489</th>\n",
       "      <td>PIPER</td>\n",
       "      <td>PA34</td>\n",
       "      <td>34</td>\n",
       "      <td>0.466964</td>\n",
       "      <td>0.515686</td>\n",
       "      <td>0.375000</td>\n",
       "      <td>0.513547</td>\n",
       "    </tr>\n",
       "    <tr>\n",
       "      <th>15927</th>\n",
       "      <td>ROBINSON</td>\n",
       "      <td>R22</td>\n",
       "      <td>61</td>\n",
       "      <td>0.456140</td>\n",
       "      <td>0.527322</td>\n",
       "      <td>0.350877</td>\n",
       "      <td>0.515387</td>\n",
       "    </tr>\n",
       "    <tr>\n",
       "      <th>3369</th>\n",
       "      <td>Beech</td>\n",
       "      <td>S35</td>\n",
       "      <td>49</td>\n",
       "      <td>0.451020</td>\n",
       "      <td>0.508617</td>\n",
       "      <td>0.418367</td>\n",
       "      <td>0.525941</td>\n",
       "    </tr>\n",
       "    <tr>\n",
       "      <th>3390</th>\n",
       "      <td>Beech</td>\n",
       "      <td>V35</td>\n",
       "      <td>51</td>\n",
       "      <td>0.421569</td>\n",
       "      <td>0.495098</td>\n",
       "      <td>0.401961</td>\n",
       "      <td>0.549020</td>\n",
       "    </tr>\n",
       "    <tr>\n",
       "      <th>15187</th>\n",
       "      <td>Piper</td>\n",
       "      <td>PA-31T</td>\n",
       "      <td>34</td>\n",
       "      <td>0.417781</td>\n",
       "      <td>0.484730</td>\n",
       "      <td>0.430392</td>\n",
       "      <td>0.555440</td>\n",
       "    </tr>\n",
       "    <tr>\n",
       "      <th>15221</th>\n",
       "      <td>Piper</td>\n",
       "      <td>PA-32R-301</td>\n",
       "      <td>60</td>\n",
       "      <td>0.410000</td>\n",
       "      <td>0.482500</td>\n",
       "      <td>0.445833</td>\n",
       "      <td>0.561000</td>\n",
       "    </tr>\n",
       "    <tr>\n",
       "      <th>6093</th>\n",
       "      <td>Cessna</td>\n",
       "      <td>414</td>\n",
       "      <td>78</td>\n",
       "      <td>0.392424</td>\n",
       "      <td>0.492379</td>\n",
       "      <td>0.393939</td>\n",
       "      <td>0.567594</td>\n",
       "    </tr>\n",
       "  </tbody>\n",
       "</table>\n",
       "</div>"
      ],
      "text/plain": [
       "                   Make       Model  Accidents  Avg_Fatality_Rate  \\\n",
       "14454             PIPER        PA25         32           0.733333   \n",
       "15936          ROBINSON         R44        142           0.521766   \n",
       "9838   Grumman American        AA-5         31           0.451613   \n",
       "14489             PIPER        PA34         34           0.466964   \n",
       "15927          ROBINSON         R22         61           0.456140   \n",
       "3369              Beech         S35         49           0.451020   \n",
       "3390              Beech         V35         51           0.421569   \n",
       "15187             Piper      PA-31T         34           0.417781   \n",
       "15221             Piper  PA-32R-301         60           0.410000   \n",
       "6093             Cessna         414         78           0.392424   \n",
       "\n",
       "       Avg_Severity  Avg_Survival_Rate  Safety.Score  \n",
       "14454      0.750000           0.166667      0.260000  \n",
       "15936      0.597809           0.248756      0.447817  \n",
       "9838       0.543011           0.362903      0.511828  \n",
       "14489      0.515686           0.375000      0.513547  \n",
       "15927      0.527322           0.350877      0.515387  \n",
       "3369       0.508617           0.418367      0.525941  \n",
       "3390       0.495098           0.401961      0.549020  \n",
       "15187      0.484730           0.430392      0.555440  \n",
       "15221      0.482500           0.445833      0.561000  \n",
       "6093       0.492379           0.393939      0.567594  "
      ]
     },
     "execution_count": 27,
     "metadata": {},
     "output_type": "execute_result"
    }
   ],
   "source": [
    "safest_models = model_summary.sort_values('Safety.Score', ascending=True)\n",
    "safest_models.head(10)"
   ]
  },
  {
   "cell_type": "markdown",
   "metadata": {},
   "source": [
    "## Visual Presentation"
   ]
  },
  {
   "cell_type": "code",
   "execution_count": 28,
   "metadata": {},
   "outputs": [
    {
     "data": {
      "image/png": "[encoded data removed]",
      "text/plain": [
       "<Figure size 432x288 with 1 Axes>"
      ]
     },
     "metadata": {
      "needs_background": "light"
     },
     "output_type": "display_data"
    }
   ],
   "source": [
    "import matplotlib.pyplot as plt\n",
    "\n",
    "top = model_summary.nsmallest(10, 'Safety.Score')\n",
    "plt.barh(top['Model'], top['Safety.Score'])\n",
    "plt.xlabel('Safety Score (lower = safer)')\n",
    "plt.ylabel('Model')\n",
    "plt.title('Top 10 Safest Aircraft Models')\n",
    "plt.gca().invert_yaxis()\n",
    "plt.show()"
   ]
  },
  {
   "cell_type": "code",
   "execution_count": 29,
   "metadata": {},
   "outputs": [
    {
     "name": "stdout",
     "output_type": "stream",
     "text": [
      "14454    0.260000\n",
      "15936    0.447817\n",
      "9838     0.511828\n",
      "14489    0.513547\n",
      "15927    0.515387\n",
      "3369     0.525941\n",
      "3390     0.549020\n",
      "15187    0.555440\n",
      "15221    0.561000\n",
      "6093     0.567594\n",
      "Name: Safety.Score, dtype: float64\n"
     ]
    }
   ],
   "source": [
    "print(top['Safety.Score'])"
   ]
  },
  {
   "cell_type": "markdown",
   "metadata": {},
   "source": [
    "In order to answer the second objective; Assess the key factors influencing aircraft safety and reliability, determine the relationship between accident severity/fatality rate and other variables such as weather, flight phase, and purpose of flight"
   ]
  },
  {
   "cell_type": "code",
   "execution_count": 30,
   "metadata": {},
   "outputs": [
    {
     "name": "stdout",
     "output_type": "stream",
     "text": [
      "  Weather.Clean  Accidents  Avg_Fatality  Avg_Severity\n",
      "0           IMC       5976      0.549193      0.635037\n",
      "1       Unknown       5599      0.431067      0.394443\n",
      "2           VMC      77288      0.141422      0.260170\n"
     ]
    }
   ],
   "source": [
    "#Determine which factors influence severity the most\n",
    "#Compute average fatality and severity by the integral factors\n",
    "#Start by weather;\n",
    "Weather_Summary = (\n",
    "    df_filtered.groupby('Weather.Clean')\n",
    "    .agg(\n",
    "        Accidents = ('Event.Id', 'count'),\n",
    "        Avg_Fatality = ('Fatality.Rate', 'mean'),\n",
    "        Avg_Severity = ('Severity.Index', 'mean')\n",
    "    )\n",
    "    .reset_index()\n",
    ")\n",
    "print(Weather_Summary)"
   ]
  },
  {
   "cell_type": "code",
   "execution_count": 31,
   "metadata": {},
   "outputs": [
    {
     "name": "stdout",
     "output_type": "stream",
     "text": [
      "  Phase.Group  Accidents  Avg_Fatality  Avg_Severity\n",
      "0      Cruise      10269      0.252689      0.370427\n",
      "1     Landing      23327      0.080127      0.168607\n",
      "2       Other      40816      0.253599      0.365728\n",
      "3     Takeoff      14451      0.111613      0.238525\n"
     ]
    }
   ],
   "source": [
    "#Phase of Flight\n",
    "Phase_Summary = (\n",
    "    df_filtered.groupby('Phase.Group')\n",
    "    .agg(\n",
    "        Accidents = ('Event.Id', 'count'),\n",
    "        Avg_Fatality = ('Fatality.Rate', 'mean'),\n",
    "        Avg_Severity = ('Severity.Index', 'mean')\n",
    "    )\n",
    "    .reset_index()\n",
    ")\n",
    "print(Phase_Summary)"
   ]
  },
  {
   "cell_type": "code",
   "execution_count": 32,
   "metadata": {},
   "outputs": [
    {
     "name": "stdout",
     "output_type": "stream",
     "text": [
      "      Purpose.of.flight  Accidents  Avg_Fatality  Avg_Severity\n",
      "0                  ASHO          5      0.600000      0.733333\n",
      "5         Air Race/show         59      0.426554      0.600274\n",
      "11         Firefighting         40      0.425000      0.543056\n",
      "4         Air Race show         99      0.363636      0.488215\n",
      "13           Glider Tow         53      0.245283      0.420335\n",
      "2    Aerial Observation        794      0.243165      0.400012\n",
      "7              Business       4015      0.242290      0.338644\n",
      "25              Unknown      12983      0.228770      0.274030\n",
      "3              Air Drop         11      0.227778      0.365320\n",
      "8   Executive/corporate        553      0.220475      0.294923\n"
     ]
    }
   ],
   "source": [
    "#Purpose of flight\n",
    "Purpose_Summary = (\n",
    "    df_filtered.groupby('Purpose.of.flight')\n",
    "    .agg(\n",
    "        Accidents = ('Event.Id', 'count'),\n",
    "        Avg_Fatality = ('Fatality.Rate', 'mean'),\n",
    "        Avg_Severity = ('Severity.Index', 'mean')\n",
    "    )\n",
    "    .reset_index()\n",
    "    .sort_values('Avg_Fatality', ascending=False)\n",
    ")\n",
    "print(Purpose_Summary.head(10))"
   ]
  },
  {
   "cell_type": "markdown",
   "metadata": {},
   "source": [
    "## Visual presentation"
   ]
  },
  {
   "cell_type": "code",
   "execution_count": 33,
   "metadata": {},
   "outputs": [
    {
     "data": {
      "image/png": "[encoded data removed]",
      "text/plain": [
       "<Figure size 432x288 with 1 Axes>"
      ]
     },
     "metadata": {
      "needs_background": "light"
     },
     "output_type": "display_data"
    },
    {
     "data": {
      "image/png": "[encoded data removed]",
      "text/plain": [
       "<Figure size 432x288 with 1 Axes>"
      ]
     },
     "metadata": {
      "needs_background": "light"
     },
     "output_type": "display_data"
    }
   ],
   "source": [
    "import matplotlib.pyplot as plt\n",
    "#Weather vs Severity\n",
    "plt.bar(Weather_Summary['Weather.Clean'], Weather_Summary['Avg_Severity'])\n",
    "plt.title('Average Severity by Weather Condition')\n",
    "plt.ylabel('Severity Index')\n",
    "plt.show()\n",
    "\n",
    "#Phase vs Fatality\n",
    "plt.bar(Phase_Summary['Phase.Group'], Phase_Summary['Avg_Fatality'])\n",
    "plt.title('Average Fatality Rate by Flight Phase')\n",
    "plt.ylabel('Fatality Rate')\n",
    "plt.show()"
   ]
  },
  {
   "cell_type": "markdown",
   "metadata": {},
   "source": [
    "## Data-Driven Business Recommendations to guide executives\n",
    "### Proposed List of Possible Models to acquire"
   ]
  },
  {
   "cell_type": "code",
   "execution_count": 34,
   "metadata": {},
   "outputs": [],
   "source": [
    "#Focus should be on events that occured most recently\n",
    "latest = df_filtered[df_filtered['Event.Year'] >= 2010].copy()"
   ]
  },
  {
   "cell_type": "code",
   "execution_count": 35,
   "metadata": {},
   "outputs": [],
   "source": [
    "#Compute new safety summary based on latest data\n",
    "latest_summary = (\n",
    "    latest.groupby(['Make', 'Model'])\n",
    "        .agg(\n",
    "            Accidents = ('Event.Id', 'count'),\n",
    "            Avg_Fatality_Rate = ('Fatality.Rate', 'mean'),\n",
    "            Avg_Severity = ('Severity.Index', 'mean')\n",
    "        )\n",
    "        .reset_index()\n",
    ")\n",
    "latest_summary['Safety.Score'] = 0.6 * latest_summary['Avg_Fatality_Rate'] + 0.4 * latest_summary['Avg_Severity']"
   ]
  },
  {
   "cell_type": "code",
   "execution_count": 36,
   "metadata": {},
   "outputs": [
    {
     "data": {
      "text/html": [
       "<div>\n",
       "<style scoped>\n",
       "    .dataframe tbody tr th:only-of-type {\n",
       "        vertical-align: middle;\n",
       "    }\n",
       "\n",
       "    .dataframe tbody tr th {\n",
       "        vertical-align: top;\n",
       "    }\n",
       "\n",
       "    .dataframe thead th {\n",
       "        text-align: right;\n",
       "    }\n",
       "</style>\n",
       "<table border=\"1\" class=\"dataframe\">\n",
       "  <thead>\n",
       "    <tr style=\"text-align: right;\">\n",
       "      <th></th>\n",
       "      <th>Make</th>\n",
       "      <th>Model</th>\n",
       "      <th>Accidents</th>\n",
       "      <th>Avg_Fatality_Rate</th>\n",
       "      <th>Avg_Severity</th>\n",
       "      <th>Safety.Score</th>\n",
       "    </tr>\n",
       "  </thead>\n",
       "  <tbody>\n",
       "    <tr>\n",
       "      <th>2966</th>\n",
       "      <td>EVEKTOR-AEROTECHNIK AS</td>\n",
       "      <td>SPORTSTAR PLUS</td>\n",
       "      <td>5</td>\n",
       "      <td>0.0</td>\n",
       "      <td>0.0</td>\n",
       "      <td>0.0</td>\n",
       "    </tr>\n",
       "    <tr>\n",
       "      <th>5044</th>\n",
       "      <td>PIPER</td>\n",
       "      <td>PA-18A 150</td>\n",
       "      <td>9</td>\n",
       "      <td>0.0</td>\n",
       "      <td>0.0</td>\n",
       "      <td>0.0</td>\n",
       "    </tr>\n",
       "    <tr>\n",
       "      <th>2359</th>\n",
       "      <td>Cessna</td>\n",
       "      <td>185</td>\n",
       "      <td>7</td>\n",
       "      <td>0.0</td>\n",
       "      <td>0.0</td>\n",
       "      <td>0.0</td>\n",
       "    </tr>\n",
       "    <tr>\n",
       "      <th>4295</th>\n",
       "      <td>MAULE</td>\n",
       "      <td>M-5-210C</td>\n",
       "      <td>7</td>\n",
       "      <td>0.0</td>\n",
       "      <td>0.0</td>\n",
       "      <td>0.0</td>\n",
       "    </tr>\n",
       "    <tr>\n",
       "      <th>2828</th>\n",
       "      <td>EMBRAER</td>\n",
       "      <td>EMB145</td>\n",
       "      <td>6</td>\n",
       "      <td>0.0</td>\n",
       "      <td>0.0</td>\n",
       "      <td>0.0</td>\n",
       "    </tr>\n",
       "    <tr>\n",
       "      <th>792</th>\n",
       "      <td>BEECH</td>\n",
       "      <td>1900D</td>\n",
       "      <td>5</td>\n",
       "      <td>0.0</td>\n",
       "      <td>0.0</td>\n",
       "      <td>0.0</td>\n",
       "    </tr>\n",
       "    <tr>\n",
       "      <th>5697</th>\n",
       "      <td>ROCKWELL INTERNATIONAL</td>\n",
       "      <td>114</td>\n",
       "      <td>7</td>\n",
       "      <td>0.0</td>\n",
       "      <td>0.0</td>\n",
       "      <td>0.0</td>\n",
       "    </tr>\n",
       "    <tr>\n",
       "      <th>6135</th>\n",
       "      <td>SMITH</td>\n",
       "      <td>AEROSTAR601</td>\n",
       "      <td>5</td>\n",
       "      <td>0.0</td>\n",
       "      <td>0.0</td>\n",
       "      <td>0.0</td>\n",
       "    </tr>\n",
       "    <tr>\n",
       "      <th>1738</th>\n",
       "      <td>CESSNA</td>\n",
       "      <td>150C</td>\n",
       "      <td>5</td>\n",
       "      <td>0.0</td>\n",
       "      <td>0.0</td>\n",
       "      <td>0.0</td>\n",
       "    </tr>\n",
       "    <tr>\n",
       "      <th>5017</th>\n",
       "      <td>PIPER</td>\n",
       "      <td>PA 34</td>\n",
       "      <td>5</td>\n",
       "      <td>0.0</td>\n",
       "      <td>0.0</td>\n",
       "      <td>0.0</td>\n",
       "    </tr>\n",
       "  </tbody>\n",
       "</table>\n",
       "</div>"
      ],
      "text/plain": [
       "                        Make           Model  Accidents  Avg_Fatality_Rate  \\\n",
       "2966  EVEKTOR-AEROTECHNIK AS  SPORTSTAR PLUS          5                0.0   \n",
       "5044                   PIPER      PA-18A 150          9                0.0   \n",
       "2359                  Cessna             185          7                0.0   \n",
       "4295                   MAULE        M-5-210C          7                0.0   \n",
       "2828                 EMBRAER          EMB145          6                0.0   \n",
       "792                    BEECH           1900D          5                0.0   \n",
       "5697  ROCKWELL INTERNATIONAL             114          7                0.0   \n",
       "6135                   SMITH     AEROSTAR601          5                0.0   \n",
       "1738                  CESSNA            150C          5                0.0   \n",
       "5017                   PIPER           PA 34          5                0.0   \n",
       "\n",
       "      Avg_Severity  Safety.Score  \n",
       "2966           0.0           0.0  \n",
       "5044           0.0           0.0  \n",
       "2359           0.0           0.0  \n",
       "4295           0.0           0.0  \n",
       "2828           0.0           0.0  \n",
       "792            0.0           0.0  \n",
       "5697           0.0           0.0  \n",
       "6135           0.0           0.0  \n",
       "1738           0.0           0.0  \n",
       "5017           0.0           0.0  "
      ]
     },
     "execution_count": 36,
     "metadata": {},
     "output_type": "execute_result"
    }
   ],
   "source": [
    "Proposed_List = (\n",
    "    latest_summary\n",
    "        .query('Accidents >= 5')\n",
    "        .query('Avg_Fatality_Rate <= 0.05')\n",
    "        .query('Avg_Severity <= 0.25')\n",
    "        .sort_values('Safety.Score', ascending=True)\n",
    ")\n",
    "Proposed_List.head(10)"
   ]
  },
  {
   "cell_type": "markdown",
   "metadata": {},
   "source": [
    "### Top 10 Recommended Aircraft Models to Consider Purchasing"
   ]
  },
  {
   "cell_type": "code",
   "execution_count": 48,
   "metadata": {},
   "outputs": [
    {
     "name": "stdout",
     "output_type": "stream",
     "text": [
      "                    Make      Model  Total_Accidents  Avg_Fatality_Rate  \\\n",
      "2420              BOEING        767               48             0.0000   \n",
      "2446              BOEING        777               80             0.0000   \n",
      "3990              Boeing        737               54             0.0000   \n",
      "2400              BOEING        757               30             0.0000   \n",
      "13055  Mcdonnell Douglas   DC-10-10               36             0.0104   \n",
      "3938              Boeing    727-200               43             0.0233   \n",
      "17680          Schweizer  SGS 2-33A               53             0.0000   \n",
      "2374              BOEING        747               65             0.0308   \n",
      "2307              BOEING        737              433             0.0272   \n",
      "13091  Mcdonnell Douglas    DC-9-82               31             0.0315   \n",
      "\n",
      "       Avg_Severity  Risk_Score                         Recommendation  \n",
      "2420          0.007      0.0022                  Strong safety record.  \n",
      "2446          0.013      0.0038                  Strong safety record.  \n",
      "3990          0.016      0.0049                  Strong safety record.  \n",
      "2400          0.023      0.0069                  Strong safety record.  \n",
      "13055         0.028      0.0157                  Strong safety record.  \n",
      "3938          0.030      0.0252  Acceptable; use standard mitigations.  \n",
      "17680         0.099      0.0296                  Strong safety record.  \n",
      "2374          0.033      0.0316  Acceptable; use standard mitigations.  \n",
      "2307          0.042      0.0317  Acceptable; use standard mitigations.  \n",
      "13091         0.034      0.0324  Acceptable; use standard mitigations.  \n"
     ]
    },
    {
     "data": {
      "image/png": "[encoded data removed]",
      "text/plain": [
       "<Figure size 720x432 with 1 Axes>"
      ]
     },
     "metadata": {
      "needs_background": "light"
     },
     "output_type": "display_data"
    }
   ],
   "source": [
    "# Needed columns: Make, Model, Occupants, Fatalities, Severity\n",
    "\n",
    "# 1) basic per-accident metrics\n",
    "df_filtered = df_filtered.copy()\n",
    "df_filtered['fatality_rate'] = 0.0\n",
    "mask = df_filtered['Total.People'] > 0\n",
    "df_filtered.loc[mask, 'fatality_rate'] = df_filtered.loc[mask, 'Total.Fatal.Injuries'] / df_filtered.loc[mask, 'Total.People']\n",
    "\n",
    "# If Severity is text, map it to numbers 0..1 first (delete this block if already numeric)\n",
    "# severity_map = {'None':0.0, 'Minor':0.2, 'Serious':0.5, 'Severe':0.8, 'Catastrophic':1.0}\n",
    "# df['Severity'] = df['Severity'].map(severity_map).fillna(0.0)\n",
    "\n",
    "# 2) count accidents per model\n",
    "cnt = df_filtered.groupby(['Make','Model']).size().reset_index(name='Total_Accidents')\n",
    "\n",
    "# 3) average fatality rate per model\n",
    "fatal = (df_filtered.groupby(['Make','Model'])['fatality_rate']\n",
    "           .mean().reset_index(name='Avg_Fatality_Rate'))\n",
    "\n",
    "# 4) average severity per model\n",
    "sev = (df_filtered.groupby(['Make','Model'])['Severity.Index']\n",
    "         .mean().reset_index(name='Avg_Severity'))\n",
    "# 5) join the pieces\n",
    "agg = pd.merge(cnt, fatal, on=['Make','Model'], how='left')\n",
    "agg = pd.merge(agg, sev, on=['Make','Model'], how='left')\n",
    "\n",
    "# 6) keep models with enough data (>=30 accidents)\n",
    "agg = agg[agg['Total_Accidents'] >= 30].copy()\n",
    "\n",
    "# 7) simple risk score (fatal outcomes weighed more)\n",
    "agg['Risk_Score'] = 0.7*agg['Avg_Fatality_Rate'] + 0.3*agg['Avg_Severity']\n",
    "\n",
    "# 8) sort safest first and pick top 10\n",
    "agg = agg.sort_values('Risk_Score', ascending=True)\n",
    "top10 = agg.head(10).copy()\n",
    "\n",
    "# 9) short plain-English note\n",
    "def note(row):\n",
    "    if row['Avg_Fatality_Rate'] <= 0.02 and row['Avg_Severity'] <= 0.20:\n",
    "        return \"Strong safety record.\"\n",
    "    elif row['Avg_Fatality_Rate'] <= 0.05 and row['Avg_Severity'] <= 0.25:\n",
    "        return \"Acceptable; use standard mitigations.\"\n",
    "    else:\n",
    "        return \"Higher risk vs peers.\"\n",
    "top10['Recommendation'] = top10.apply(note, axis=1)\n",
    "# 10) final columns (rounded for readability)\n",
    "final_cols = ['Make','Model','Total_Accidents',\n",
    "              'Avg_Fatality_Rate','Avg_Severity','Risk_Score','Recommendation']\n",
    "final_table = top10[final_cols].round({'Avg_Fatality_Rate':4,'Avg_Severity':3,'Risk_Score':4})\n",
    "\n",
    "print(final_table)\n",
    "\n",
    "# 11) simple chart you can drop in slides\n",
    "labels = final_table['Make'] + \" \" + final_table['Model']\n",
    "plt.figure(figsize=(10,6))\n",
    "plt.barh(labels, final_table['Risk_Score'])\n",
    "plt.gca().invert_yaxis()\n",
    "plt.xlabel('Risk Score (lower is safer)')\n",
    "plt.title('Top 10 Safest Aircraft Models')\n",
    "plt.tight_layout()\n",
    "plt.show()\n",
    "\n",
    "# Optional: save\n",
    "# final_table.to_csv('Top10_Safest_Aircraft.csv', index=False)\n",
    "# plt.savefig('Top10_Safest_Aircraft.png', dpi=300)"
   ]
  }
 ],
 "metadata": {
  "kernelspec": {
   "display_name": "learn-env",
   "language": "python",
   "name": "python3"
  },
  "language_info": {
   "codemirror_mode": {
    "name": "ipython",
    "version": 3
   },
   "file_extension": ".py",
   "mimetype": "text/x-python",
   "name": "python",
   "nbconvert_exporter": "python",
   "pygments_lexer": "ipython3",
   "version": "3.8.5"
  }
 },
 "nbformat": 4,
 "nbformat_minor": 2
}
