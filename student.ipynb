{
 "cells": [
  {
   "cell_type": "markdown",
   "metadata": {},
   "source": [
    "## Final Project Submission\n",
    "\n",
    "Please fill out:\n",
    "* Student name: JOHN AWALLAH OTHIM\n",
    "* Student pace: part time\n",
    "* Scheduled project review date/time: \n",
    "* Instructor name: BRIAN CHACHA\n",
    "* Blog post URL:\n"
   ]
  },
  {
   "cell_type": "markdown",
   "metadata": {},
   "source": [
    "## Objectives\n",
    "1. Identify Low-risk aircraft Models for acquisition\n",
    "2. Assess factors influencing Aircraft Safety and Reliability\n",
    "3. Generate Data-Driven Business Recommendations to guide executives"
   ]
  },
  {
   "cell_type": "markdown",
   "metadata": {},
   "source": [
    "## Loading the data\n",
    "The first step is to load the data"
   ]
  },
  {
   "cell_type": "code",
   "execution_count": 1,
   "metadata": {},
   "outputs": [
    {
     "name": "stderr",
     "output_type": "stream",
     "text": [
      "c:\\Users\\USER\\anaconda3\\envs\\learn-env\\lib\\site-packages\\IPython\\core\\interactiveshell.py:3145: DtypeWarning: Columns (6,7,28) have mixed types.Specify dtype option on import or set low_memory=False.\n",
      "  has_raised = await self.run_ast_nodes(code_ast.body, cell_name,\n"
     ]
    }
   ],
   "source": [
    "import pandas as pd\n",
    "import csv\n",
    "import numpy as np\n",
    "df = pd.read_csv('Aviation_Data.csv')"
   ]
  },
  {
   "cell_type": "markdown",
   "metadata": {},
   "source": [
    "## Exploring the data and its structure"
   ]
  },
  {
   "cell_type": "code",
   "execution_count": 2,
   "metadata": {},
   "outputs": [
    {
     "name": "stdout",
     "output_type": "stream",
     "text": [
      "<class 'pandas.core.frame.DataFrame'>\n",
      "RangeIndex: 90348 entries, 0 to 90347\n",
      "Data columns (total 31 columns):\n",
      " #   Column                  Non-Null Count  Dtype  \n",
      "---  ------                  --------------  -----  \n",
      " 0   Event.Id                88889 non-null  object \n",
      " 1   Investigation.Type      90348 non-null  object \n",
      " 2   Accident.Number         88889 non-null  object \n",
      " 3   Event.Date              88889 non-null  object \n",
      " 4   Location                88837 non-null  object \n",
      " 5   Country                 88663 non-null  object \n",
      " 6   Latitude                34382 non-null  object \n",
      " 7   Longitude               34373 non-null  object \n",
      " 8   Airport.Code            50249 non-null  object \n",
      " 9   Airport.Name            52790 non-null  object \n",
      " 10  Injury.Severity         87889 non-null  object \n",
      " 11  Aircraft.damage         85695 non-null  object \n",
      " 12  Aircraft.Category       32287 non-null  object \n",
      " 13  Registration.Number     87572 non-null  object \n",
      " 14  Make                    88826 non-null  object \n",
      " 15  Model                   88797 non-null  object \n",
      " 16  Amateur.Built           88787 non-null  object \n",
      " 17  Number.of.Engines       82805 non-null  float64\n",
      " 18  Engine.Type             81812 non-null  object \n",
      " 19  FAR.Description         32023 non-null  object \n",
      " 20  Schedule                12582 non-null  object \n",
      " 21  Purpose.of.flight       82697 non-null  object \n",
      " 22  Air.carrier             16648 non-null  object \n",
      " 23  Total.Fatal.Injuries    77488 non-null  float64\n",
      " 24  Total.Serious.Injuries  76379 non-null  float64\n",
      " 25  Total.Minor.Injuries    76956 non-null  float64\n",
      " 26  Total.Uninjured         82977 non-null  float64\n",
      " 27  Weather.Condition       84397 non-null  object \n",
      " 28  Broad.phase.of.flight   61724 non-null  object \n",
      " 29  Report.Status           82508 non-null  object \n",
      " 30  Publication.Date        73659 non-null  object \n",
      "dtypes: float64(5), object(26)\n",
      "memory usage: 21.4+ MB\n"
     ]
    }
   ],
   "source": [
    "df.info()\n"
   ]
  },
  {
   "cell_type": "markdown",
   "metadata": {},
   "source": [
    "## Identifying the important columns\n",
    "The important columns identified using keys()"
   ]
  },
  {
   "cell_type": "code",
   "execution_count": 3,
   "metadata": {},
   "outputs": [
    {
     "data": {
      "text/plain": [
       "Index(['Event.Id', 'Investigation.Type', 'Accident.Number', 'Event.Date',\n",
       "       'Location', 'Country', 'Latitude', 'Longitude', 'Airport.Code',\n",
       "       'Airport.Name', 'Injury.Severity', 'Aircraft.damage',\n",
       "       'Aircraft.Category', 'Registration.Number', 'Make', 'Model',\n",
       "       'Amateur.Built', 'Number.of.Engines', 'Engine.Type', 'FAR.Description',\n",
       "       'Schedule', 'Purpose.of.flight', 'Air.carrier', 'Total.Fatal.Injuries',\n",
       "       'Total.Serious.Injuries', 'Total.Minor.Injuries', 'Total.Uninjured',\n",
       "       'Weather.Condition', 'Broad.phase.of.flight', 'Report.Status',\n",
       "       'Publication.Date'],\n",
       "      dtype='object')"
      ]
     },
     "execution_count": 3,
     "metadata": {},
     "output_type": "execute_result"
    }
   ],
   "source": [
    "df.columns\n",
    "#df.select_dtypes(include=['number']).columns"
   ]
  },
  {
   "cell_type": "markdown",
   "metadata": {},
   "source": [
    "## Based on the objectives, the following columns should be retained for analysis;\n",
    "\n",
    "'Event.Id', 'Accident.Number', 'Event.Date','Make', 'Model', 'Aircraft.Category', 'Engine.Type', 'Number.of.Engines', 'Aircraft.damage', 'Injury.Severity', 'Total.Fatal.Injuries', 'Total.Serious.Injuries', 'Total.Minor.Injuries', 'Total.Uninjured', 'Purpose.of.flight', 'Weather.Condition', 'Broad.phase.of.flight', 'Location', 'Country', 'Latitude', 'Longitude', 'Air.carrier', 'FAR.Description', 'Report.Status', 'Publication.Date'"
   ]
  },
  {
   "cell_type": "markdown",
   "metadata": {},
   "source": [
    "## Filter Data to only Relevant Columns"
   ]
  },
  {
   "cell_type": "code",
   "execution_count": 4,
   "metadata": {},
   "outputs": [],
   "source": [
    "Kept_columns = ['Event.Id', 'Accident.Number', 'Event.Date','Make', 'Model', 'Aircraft.Category', 'Engine.Type', 'Number.of.Engines', 'Aircraft.damage', 'Injury.Severity', 'Total.Fatal.Injuries', 'Total.Serious.Injuries', 'Total.Minor.Injuries', 'Total.Uninjured', 'Purpose.of.flight', 'Weather.Condition', 'Broad.phase.of.flight', 'Location', 'Country', 'Latitude', 'Longitude', 'Air.carrier', 'FAR.Description', 'Report.Status', 'Publication.Date']\n",
    "df_filtered = df[Kept_columns]"
   ]
  },
  {
   "cell_type": "code",
   "execution_count": 5,
   "metadata": {},
   "outputs": [
    {
     "data": {
      "text/html": [
       "<div>\n",
       "<style scoped>\n",
       "    .dataframe tbody tr th:only-of-type {\n",
       "        vertical-align: middle;\n",
       "    }\n",
       "\n",
       "    .dataframe tbody tr th {\n",
       "        vertical-align: top;\n",
       "    }\n",
       "\n",
       "    .dataframe thead th {\n",
       "        text-align: right;\n",
       "    }\n",
       "</style>\n",
       "<table border=\"1\" class=\"dataframe\">\n",
       "  <thead>\n",
       "    <tr style=\"text-align: right;\">\n",
       "      <th></th>\n",
       "      <th>Event.Id</th>\n",
       "      <th>Accident.Number</th>\n",
       "      <th>Event.Date</th>\n",
       "      <th>Make</th>\n",
       "      <th>Model</th>\n",
       "      <th>Aircraft.Category</th>\n",
       "      <th>Engine.Type</th>\n",
       "      <th>Number.of.Engines</th>\n",
       "      <th>Aircraft.damage</th>\n",
       "      <th>Injury.Severity</th>\n",
       "      <th>...</th>\n",
       "      <th>Weather.Condition</th>\n",
       "      <th>Broad.phase.of.flight</th>\n",
       "      <th>Location</th>\n",
       "      <th>Country</th>\n",
       "      <th>Latitude</th>\n",
       "      <th>Longitude</th>\n",
       "      <th>Air.carrier</th>\n",
       "      <th>FAR.Description</th>\n",
       "      <th>Report.Status</th>\n",
       "      <th>Publication.Date</th>\n",
       "    </tr>\n",
       "  </thead>\n",
       "  <tbody>\n",
       "    <tr>\n",
       "      <th>0</th>\n",
       "      <td>20001218X45444</td>\n",
       "      <td>SEA87LA080</td>\n",
       "      <td>1948-10-24</td>\n",
       "      <td>Stinson</td>\n",
       "      <td>108-3</td>\n",
       "      <td>NaN</td>\n",
       "      <td>Reciprocating</td>\n",
       "      <td>1.0</td>\n",
       "      <td>Destroyed</td>\n",
       "      <td>Fatal(2)</td>\n",
       "      <td>...</td>\n",
       "      <td>UNK</td>\n",
       "      <td>Cruise</td>\n",
       "      <td>MOOSE CREEK, ID</td>\n",
       "      <td>United States</td>\n",
       "      <td>NaN</td>\n",
       "      <td>NaN</td>\n",
       "      <td>NaN</td>\n",
       "      <td>NaN</td>\n",
       "      <td>Probable Cause</td>\n",
       "      <td>NaN</td>\n",
       "    </tr>\n",
       "    <tr>\n",
       "      <th>1</th>\n",
       "      <td>20001218X45447</td>\n",
       "      <td>LAX94LA336</td>\n",
       "      <td>1962-07-19</td>\n",
       "      <td>Piper</td>\n",
       "      <td>PA24-180</td>\n",
       "      <td>NaN</td>\n",
       "      <td>Reciprocating</td>\n",
       "      <td>1.0</td>\n",
       "      <td>Destroyed</td>\n",
       "      <td>Fatal(4)</td>\n",
       "      <td>...</td>\n",
       "      <td>UNK</td>\n",
       "      <td>Unknown</td>\n",
       "      <td>BRIDGEPORT, CA</td>\n",
       "      <td>United States</td>\n",
       "      <td>NaN</td>\n",
       "      <td>NaN</td>\n",
       "      <td>NaN</td>\n",
       "      <td>NaN</td>\n",
       "      <td>Probable Cause</td>\n",
       "      <td>19-09-1996</td>\n",
       "    </tr>\n",
       "    <tr>\n",
       "      <th>2</th>\n",
       "      <td>20061025X01555</td>\n",
       "      <td>NYC07LA005</td>\n",
       "      <td>1974-08-30</td>\n",
       "      <td>Cessna</td>\n",
       "      <td>172M</td>\n",
       "      <td>NaN</td>\n",
       "      <td>Reciprocating</td>\n",
       "      <td>1.0</td>\n",
       "      <td>Destroyed</td>\n",
       "      <td>Fatal(3)</td>\n",
       "      <td>...</td>\n",
       "      <td>IMC</td>\n",
       "      <td>Cruise</td>\n",
       "      <td>Saltville, VA</td>\n",
       "      <td>United States</td>\n",
       "      <td>36.9222</td>\n",
       "      <td>-81.8781</td>\n",
       "      <td>NaN</td>\n",
       "      <td>NaN</td>\n",
       "      <td>Probable Cause</td>\n",
       "      <td>26-02-2007</td>\n",
       "    </tr>\n",
       "    <tr>\n",
       "      <th>3</th>\n",
       "      <td>20001218X45448</td>\n",
       "      <td>LAX96LA321</td>\n",
       "      <td>1977-06-19</td>\n",
       "      <td>Rockwell</td>\n",
       "      <td>112</td>\n",
       "      <td>NaN</td>\n",
       "      <td>Reciprocating</td>\n",
       "      <td>1.0</td>\n",
       "      <td>Destroyed</td>\n",
       "      <td>Fatal(2)</td>\n",
       "      <td>...</td>\n",
       "      <td>IMC</td>\n",
       "      <td>Cruise</td>\n",
       "      <td>EUREKA, CA</td>\n",
       "      <td>United States</td>\n",
       "      <td>NaN</td>\n",
       "      <td>NaN</td>\n",
       "      <td>NaN</td>\n",
       "      <td>NaN</td>\n",
       "      <td>Probable Cause</td>\n",
       "      <td>12-09-2000</td>\n",
       "    </tr>\n",
       "    <tr>\n",
       "      <th>4</th>\n",
       "      <td>20041105X01764</td>\n",
       "      <td>CHI79FA064</td>\n",
       "      <td>1979-08-02</td>\n",
       "      <td>Cessna</td>\n",
       "      <td>501</td>\n",
       "      <td>NaN</td>\n",
       "      <td>NaN</td>\n",
       "      <td>NaN</td>\n",
       "      <td>Destroyed</td>\n",
       "      <td>Fatal(1)</td>\n",
       "      <td>...</td>\n",
       "      <td>VMC</td>\n",
       "      <td>Approach</td>\n",
       "      <td>Canton, OH</td>\n",
       "      <td>United States</td>\n",
       "      <td>NaN</td>\n",
       "      <td>NaN</td>\n",
       "      <td>NaN</td>\n",
       "      <td>NaN</td>\n",
       "      <td>Probable Cause</td>\n",
       "      <td>16-04-1980</td>\n",
       "    </tr>\n",
       "  </tbody>\n",
       "</table>\n",
       "<p>5 rows × 25 columns</p>\n",
       "</div>"
      ],
      "text/plain": [
       "         Event.Id Accident.Number  Event.Date      Make     Model  \\\n",
       "0  20001218X45444      SEA87LA080  1948-10-24   Stinson     108-3   \n",
       "1  20001218X45447      LAX94LA336  1962-07-19     Piper  PA24-180   \n",
       "2  20061025X01555      NYC07LA005  1974-08-30    Cessna      172M   \n",
       "3  20001218X45448      LAX96LA321  1977-06-19  Rockwell       112   \n",
       "4  20041105X01764      CHI79FA064  1979-08-02    Cessna       501   \n",
       "\n",
       "  Aircraft.Category    Engine.Type  Number.of.Engines Aircraft.damage  \\\n",
       "0               NaN  Reciprocating                1.0       Destroyed   \n",
       "1               NaN  Reciprocating                1.0       Destroyed   \n",
       "2               NaN  Reciprocating                1.0       Destroyed   \n",
       "3               NaN  Reciprocating                1.0       Destroyed   \n",
       "4               NaN            NaN                NaN       Destroyed   \n",
       "\n",
       "  Injury.Severity  ...  Weather.Condition  Broad.phase.of.flight  \\\n",
       "0        Fatal(2)  ...                UNK                 Cruise   \n",
       "1        Fatal(4)  ...                UNK                Unknown   \n",
       "2        Fatal(3)  ...                IMC                 Cruise   \n",
       "3        Fatal(2)  ...                IMC                 Cruise   \n",
       "4        Fatal(1)  ...                VMC               Approach   \n",
       "\n",
       "          Location        Country Latitude Longitude Air.carrier  \\\n",
       "0  MOOSE CREEK, ID  United States      NaN       NaN         NaN   \n",
       "1   BRIDGEPORT, CA  United States      NaN       NaN         NaN   \n",
       "2    Saltville, VA  United States  36.9222  -81.8781         NaN   \n",
       "3       EUREKA, CA  United States      NaN       NaN         NaN   \n",
       "4       Canton, OH  United States      NaN       NaN         NaN   \n",
       "\n",
       "  FAR.Description   Report.Status Publication.Date  \n",
       "0             NaN  Probable Cause              NaN  \n",
       "1             NaN  Probable Cause       19-09-1996  \n",
       "2             NaN  Probable Cause       26-02-2007  \n",
       "3             NaN  Probable Cause       12-09-2000  \n",
       "4             NaN  Probable Cause       16-04-1980  \n",
       "\n",
       "[5 rows x 25 columns]"
      ]
     },
     "execution_count": 5,
     "metadata": {},
     "output_type": "execute_result"
    }
   ],
   "source": [
    "df_filtered.head()"
   ]
  },
  {
   "cell_type": "code",
   "execution_count": 6,
   "metadata": {},
   "outputs": [],
   "source": [
    "available = [c for c in Kept_columns if c in df_filtered.columns]\n",
    "df_filtered = df_filtered[available].copy()"
   ]
  },
  {
   "cell_type": "code",
   "execution_count": 7,
   "metadata": {},
   "outputs": [],
   "source": [
    "for x in ['Event.Date', 'Publication.Date']:\n",
    "    if x in df_filtered:\n",
    "        df_filtered[x] = pd.to_datetime(df_filtered[x], errors= 'coerce')"
   ]
  },
  {
   "cell_type": "markdown",
   "metadata": {},
   "source": [
    "## DATA CLEANING"
   ]
  },
  {
   "cell_type": "markdown",
   "metadata": {},
   "source": [
    "## Identify numerical columns and make sure they are numeric"
   ]
  },
  {
   "cell_type": "code",
   "execution_count": 8,
   "metadata": {},
   "outputs": [
    {
     "name": "stdout",
     "output_type": "stream",
     "text": [
      "['Total.Fatal.Injuries', 'Total.Serious.Injuries', 'Total.Minor.Injuries', 'Total.Uninjured', 'Number.of.Engines', 'Latitude', 'Longitude']\n"
     ]
    }
   ],
   "source": [
    "numerical_columns = ['Total.Fatal.Injuries', 'Total.Serious.Injuries', 'Total.Minor.Injuries', 'Total.Uninjured', 'Number.of.Engines', 'Latitude', 'Longitude']\n",
    "print(numerical_columns)"
   ]
  },
  {
   "cell_type": "code",
   "execution_count": 9,
   "metadata": {},
   "outputs": [
    {
     "data": {
      "text/plain": [
       "Total.Fatal.Injuries      float64\n",
       "Total.Serious.Injuries    float64\n",
       "Total.Minor.Injuries      float64\n",
       "Total.Uninjured           float64\n",
       "Number.of.Engines         float64\n",
       "Latitude                  float64\n",
       "Longitude                 float64\n",
       "dtype: object"
      ]
     },
     "execution_count": 9,
     "metadata": {},
     "output_type": "execute_result"
    }
   ],
   "source": [
    "for x in [x for x in numerical_columns if x in df_filtered.columns]:\n",
    "    df_filtered[x] = pd.to_numeric(df_filtered[x], errors='coerce')\n",
    "df_filtered[numerical_columns].dtypes"
   ]
  },
  {
   "cell_type": "markdown",
   "metadata": {},
   "source": [
    "## Text Columns Cleaning"
   ]
  },
  {
   "cell_type": "code",
   "execution_count": 10,
   "metadata": {},
   "outputs": [],
   "source": [
    "cat_columns = ['Make', 'Model', 'Aircraft.Category', 'Engine.Type', 'Aircraft.damage', 'Injury.Severity', 'Purpose.of.flight', 'Weather.Condition', 'Broad.phase.of.flight', 'Location', 'Country', 'Air.carrier', 'FAR.Description', 'Report.Status']\n",
    "for x in [x for x in cat_columns if x in df_filtered]:\n",
    "    df_filtered[x] = (df_filtered[x].astype(str).str.strip()\n",
    "             .replace({'nan': '', 'None':'', 'NaN': ''}, regex=False))\n",
    "    df_filtered[x] = df_filtered[x].replace('', np.nan).fillna('Unknown')"
   ]
  },
  {
   "cell_type": "markdown",
   "metadata": {},
   "source": [
    "## removal of Duplicates"
   ]
  },
  {
   "cell_type": "code",
   "execution_count": 11,
   "metadata": {},
   "outputs": [],
   "source": [
    "event_columns = [x for x in ['Event.Id', 'Accident.Number'] if x in df_filtered]\n",
    "if event_columns:\n",
    "    df_filtered = df_filtered.drop_duplicates(subset=event_columns)"
   ]
  },
  {
   "cell_type": "markdown",
   "metadata": {},
   "source": [
    "Fill in missing values"
   ]
  },
  {
   "cell_type": "code",
   "execution_count": 12,
   "metadata": {},
   "outputs": [
    {
     "name": "stderr",
     "output_type": "stream",
     "text": [
      "c:\\Users\\USER\\anaconda3\\envs\\learn-env\\lib\\site-packages\\numpy\\lib\\nanfunctions.py:1113: RuntimeWarning: Mean of empty slice\n",
      "  return np.nanmean(a, axis, out=out, keepdims=keepdims)\n"
     ]
    }
   ],
   "source": [
    "for x in ['Total.Fatal.Injuries', 'Total.Serious.Injuries', 'Total.Minor.Injuries', 'Total.Uninjured']:\n",
    "    if x in df_filtered.columns:\n",
    "        df_filtered[x] = df_filtered[x].fillna(0)\n",
    "\n",
    "#Missing number of engines\n",
    "if 'Number.of.Engines' in df_filtered.columns:\n",
    "    df_filtered['Number.of.Engines'] = (\n",
    "        df_filtered.groupby('Model', dropna=False)['Number.of.Engines']\n",
    "        .transform(lambda g:g.fillna(g.median()))\n",
    "    )\n",
    "    global_median = df_filtered['Number.of.Engines'].median()\n",
    "    df_filtered['Number.of.Engines'] = df_filtered['Number.of.Engines'].fillna(global_median)"
   ]
  },
  {
   "cell_type": "code",
   "execution_count": 13,
   "metadata": {},
   "outputs": [
    {
     "data": {
      "text/plain": [
       "Total.Fatal.Injuries      0\n",
       "Total.Serious.Injuries    0\n",
       "Total.Minor.Injuries      0\n",
       "Total.Uninjured           0\n",
       "Number.of.Engines         0\n",
       "dtype: int64"
      ]
     },
     "execution_count": 13,
     "metadata": {},
     "output_type": "execute_result"
    }
   ],
   "source": [
    "df_filtered[['Total.Fatal.Injuries', 'Total.Serious.Injuries', 'Total.Minor.Injuries', 'Total.Uninjured', 'Number.of.Engines']].isna().sum()"
   ]
  },
  {
   "cell_type": "markdown",
   "metadata": {},
   "source": [
    "## DATA ANALYSIS\n",
    "# Creating fatality and survival rates\n",
    "This are metrics to help rank the aircraft models on the basis of their safety\n"
   ]
  },
  {
   "cell_type": "code",
   "execution_count": 14,
   "metadata": {},
   "outputs": [],
   "source": [
    "#Creating a new column of total persons involved in each event\n",
    "cols = ['Total.Fatal.Injuries', 'Total.Serious.Injuries', 'Total.Minor.Injuries', 'Total.Uninjured']\n",
    "#sum across those columns\n",
    "df_filtered['Total.People'] = df_filtered[cols].sum(axis=1, min_count=1)\n",
    "\n",
    "#df_filtered['Total.People'] = (\n",
    "    #df_filtered['Total.Fatal.Injuries'] + df_filtered['Total.Serious.Injuries']\n",
    "    #+ df_filtered['Total.Minor.Injuries'] + df_filtered['Total.Uninjured']\n",
    "#)"
   ]
  },
  {
   "cell_type": "code",
   "execution_count": 15,
   "metadata": {},
   "outputs": [],
   "source": [
    "df_filtered['Total.People'] = df_filtered['Total.People'].replace(0, np.nan)"
   ]
  },
  {
   "cell_type": "code",
   "execution_count": 16,
   "metadata": {},
   "outputs": [
    {
     "name": "stdout",
     "output_type": "stream",
     "text": [
      "Index(['Event.Id', 'Accident.Number', 'Event.Date', 'Make', 'Model',\n",
      "       'Aircraft.Category', 'Engine.Type', 'Number.of.Engines',\n",
      "       'Aircraft.damage', 'Injury.Severity', 'Total.Fatal.Injuries',\n",
      "       'Total.Serious.Injuries', 'Total.Minor.Injuries', 'Total.Uninjured',\n",
      "       'Purpose.of.flight', 'Weather.Condition', 'Broad.phase.of.flight',\n",
      "       'Location', 'Country', 'Latitude', 'Longitude', 'Air.carrier',\n",
      "       'FAR.Description', 'Report.Status', 'Publication.Date', 'Total.People'],\n",
      "      dtype='object')\n"
     ]
    }
   ],
   "source": [
    "print(df_filtered.columns)"
   ]
  },
  {
   "cell_type": "code",
   "execution_count": 17,
   "metadata": {},
   "outputs": [],
   "source": [
    "#denominator (avoid divide-by-zero and non-numeric issues)\n",
    "den = pd.to_numeric(df_filtered['Total.People'], errors='coerce')\n",
    "fatal = pd.to_numeric(df_filtered['Total.Fatal.Injuries'], errors='coerce')\n",
    "uninjured = pd.to_numeric(df_filtered['Total.Uninjured'], errors='coerce')"
   ]
  },
  {
   "cell_type": "code",
   "execution_count": 18,
   "metadata": {},
   "outputs": [],
   "source": [
    "df_filtered['Fatality.Rate'] = np.divide(\n",
    "    fatal, den, out=np.full(den.shape, np.nan, dtype='float64'), where=den>0\n",
    ")\n",
    "df_filtered['Survival.Rate'] = np.divide(\n",
    "    uninjured, den, out=np.full(den.shape, np.nan, dtype='float64'), where=den>0\n",
    ")\n",
    "df_filtered[['Fatality.Rate', 'Survival.Rate']] = (\n",
    "    df_filtered[['Fatality.Rate', 'Survival.Rate']]\n",
    "    .replace([np.inf, -np.inf], np.nan)\n",
    "    .clip(0, 1)\n",
    ")"
   ]
  },
  {
   "cell_type": "markdown",
   "metadata": {},
   "source": [
    "# Summary of the severity of the accident"
   ]
  },
  {
   "cell_type": "code",
   "execution_count": 19,
   "metadata": {},
   "outputs": [],
   "source": [
    "Accident_weights = (\n",
    "    3*df_filtered['Total.Fatal.Injuries'] +\n",
    "    2*df_filtered['Total.Serious.Injuries']+\n",
    "    1*df_filtered['Total.Minor.Injuries']\n",
    ")\n",
    "df_filtered['Severity.Index'] = np.where(\n",
    "    den > 0,\n",
    "    Accident_weights/(3 * den),\n",
    "    np.nan\n",
    ")\n",
    "df_filtered['Severity.Index'] = (\n",
    "    df_filtered['Severity.Index']\n",
    "    .replace([np.inf, -np.inf], np.nan)\n",
    "    .fillna(0)\n",
    ")\n",
    "#df_filtered['Severity.Index'] = (Accident_weights/ (3*df_filtered['Total.People'])).fillna(0)"
   ]
  },
  {
   "cell_type": "markdown",
   "metadata": {},
   "source": [
    "# Effect of weather conditions"
   ]
  },
  {
   "cell_type": "code",
   "execution_count": 20,
   "metadata": {},
   "outputs": [],
   "source": [
    "wc = df_filtered['Weather.Condition'].str.lower()\n",
    "df_filtered['Weather.Clean'] = np.select(\n",
    "    [\n",
    "        wc.str.contains('imc|instrument', na=False),\n",
    "        wc.str.contains('snow|rain|storm|wind|fog|icing|hail|microburst', na=False),\n",
    "        wc.str.contains('vmc|visual|clear', na=False)\n",
    "    ],\n",
    "    ['IMC', 'Adverse', 'VMC'],\n",
    "    default='Unknown'\n",
    ")"
   ]
  },
  {
   "cell_type": "markdown",
   "metadata": {},
   "source": [
    "## Flight Phase Realignment\n",
    "This will help highlight when most flight incidents occur\n"
   ]
  },
  {
   "cell_type": "code",
   "execution_count": 21,
   "metadata": {},
   "outputs": [],
   "source": [
    "fp = df_filtered['Broad.phase.of.flight'].str.lower()\n",
    "df_filtered['Phase.Group'] = np.select(\n",
    "    [\n",
    "        fp.str.contains('takeoff|initial climb|taxi', na=False),\n",
    "        fp.str.contains('approach|landing|flare|go-around', na=False),\n",
    "        fp.str.contains('enroute|cruise', na=False)\n",
    "    ],\n",
    "    ['Takeoff', 'Landing', 'Cruise'],\n",
    "    default='Other'\n",
    ")"
   ]
  },
  {
   "cell_type": "markdown",
   "metadata": {},
   "source": [
    "## Trend Analysis of Time of the Event\n",
    "Extract year to show trend"
   ]
  },
  {
   "cell_type": "code",
   "execution_count": 22,
   "metadata": {},
   "outputs": [],
   "source": [
    "df_filtered['Event.Year'] = df_filtered['Event.Date'].dt.year"
   ]
  },
  {
   "cell_type": "code",
   "execution_count": 23,
   "metadata": {},
   "outputs": [
    {
     "data": {
      "text/html": [
       "<div>\n",
       "<style scoped>\n",
       "    .dataframe tbody tr th:only-of-type {\n",
       "        vertical-align: middle;\n",
       "    }\n",
       "\n",
       "    .dataframe tbody tr th {\n",
       "        vertical-align: top;\n",
       "    }\n",
       "\n",
       "    .dataframe thead th {\n",
       "        text-align: right;\n",
       "    }\n",
       "</style>\n",
       "<table border=\"1\" class=\"dataframe\">\n",
       "  <thead>\n",
       "    <tr style=\"text-align: right;\">\n",
       "      <th></th>\n",
       "      <th>Make</th>\n",
       "      <th>Model</th>\n",
       "      <th>Fatality.Rate</th>\n",
       "      <th>Survival.Rate</th>\n",
       "      <th>Severity.Index</th>\n",
       "      <th>Weather.Clean</th>\n",
       "      <th>Phase.Group</th>\n",
       "      <th>Event.Year</th>\n",
       "    </tr>\n",
       "  </thead>\n",
       "  <tbody>\n",
       "    <tr>\n",
       "      <th>0</th>\n",
       "      <td>Stinson</td>\n",
       "      <td>108-3</td>\n",
       "      <td>1.000000</td>\n",
       "      <td>0.0</td>\n",
       "      <td>1.000000</td>\n",
       "      <td>Unknown</td>\n",
       "      <td>Cruise</td>\n",
       "      <td>1948.0</td>\n",
       "    </tr>\n",
       "    <tr>\n",
       "      <th>1</th>\n",
       "      <td>Piper</td>\n",
       "      <td>PA24-180</td>\n",
       "      <td>1.000000</td>\n",
       "      <td>0.0</td>\n",
       "      <td>1.000000</td>\n",
       "      <td>Unknown</td>\n",
       "      <td>Other</td>\n",
       "      <td>1962.0</td>\n",
       "    </tr>\n",
       "    <tr>\n",
       "      <th>2</th>\n",
       "      <td>Cessna</td>\n",
       "      <td>172M</td>\n",
       "      <td>1.000000</td>\n",
       "      <td>0.0</td>\n",
       "      <td>1.000000</td>\n",
       "      <td>IMC</td>\n",
       "      <td>Cruise</td>\n",
       "      <td>1974.0</td>\n",
       "    </tr>\n",
       "    <tr>\n",
       "      <th>3</th>\n",
       "      <td>Rockwell</td>\n",
       "      <td>112</td>\n",
       "      <td>1.000000</td>\n",
       "      <td>0.0</td>\n",
       "      <td>1.000000</td>\n",
       "      <td>IMC</td>\n",
       "      <td>Cruise</td>\n",
       "      <td>1977.0</td>\n",
       "    </tr>\n",
       "    <tr>\n",
       "      <th>4</th>\n",
       "      <td>Cessna</td>\n",
       "      <td>501</td>\n",
       "      <td>0.333333</td>\n",
       "      <td>0.0</td>\n",
       "      <td>0.777778</td>\n",
       "      <td>VMC</td>\n",
       "      <td>Landing</td>\n",
       "      <td>1979.0</td>\n",
       "    </tr>\n",
       "  </tbody>\n",
       "</table>\n",
       "</div>"
      ],
      "text/plain": [
       "       Make     Model  Fatality.Rate  Survival.Rate  Severity.Index  \\\n",
       "0   Stinson     108-3       1.000000            0.0        1.000000   \n",
       "1     Piper  PA24-180       1.000000            0.0        1.000000   \n",
       "2    Cessna      172M       1.000000            0.0        1.000000   \n",
       "3  Rockwell       112       1.000000            0.0        1.000000   \n",
       "4    Cessna       501       0.333333            0.0        0.777778   \n",
       "\n",
       "  Weather.Clean Phase.Group  Event.Year  \n",
       "0       Unknown      Cruise      1948.0  \n",
       "1       Unknown       Other      1962.0  \n",
       "2           IMC      Cruise      1974.0  \n",
       "3           IMC      Cruise      1977.0  \n",
       "4           VMC     Landing      1979.0  "
      ]
     },
     "execution_count": 23,
     "metadata": {},
     "output_type": "execute_result"
    }
   ],
   "source": [
    "df_filtered[['Make', 'Model', 'Fatality.Rate', 'Survival.Rate', 'Severity.Index', 'Weather.Clean', 'Phase.Group', 'Event.Year']].head()"
   ]
  },
  {
   "cell_type": "markdown",
   "metadata": {},
   "source": [
    "In order to answer the first objective; Identifying low-risk aircraft models for acquisition, we need to compute the safety metrics per aircraft model using average fatality rate, average severity, and count of incidents per model"
   ]
  },
  {
   "cell_type": "code",
   "execution_count": 24,
   "metadata": {},
   "outputs": [],
   "source": [
    "for col in ['Fatality.Rate', 'Severity.Index', 'Survival.Rate']:\n",
    "    df_filtered[col] = pd.to_numeric(df_filtered[col], errors='coerce')\n",
    "#Group by model\n",
    "model_summary = (\n",
    "    df_filtered.groupby(['Make', 'Model'])\n",
    "    .agg(\n",
    "        Accidents = ('Event.Id', 'count'),\n",
    "        Avg_Fatality_Rate = ('Fatality.Rate', 'mean'),\n",
    "        Avg_Severity = ('Severity.Index', 'mean'),\n",
    "        Avg_Survival_Rate = ('Survival.Rate', 'mean')\n",
    "    )\n",
    "    .reset_index()\n",
    ")"
   ]
  },
  {
   "cell_type": "code",
   "execution_count": 25,
   "metadata": {},
   "outputs": [],
   "source": [
    "#Include a safety score\n",
    "model_summary['Safety.Score'] = 1- (\n",
    "    model_summary['Avg_Fatality_Rate'] * 0.6 + \n",
    "    model_summary['Avg_Severity'] * 0.4\n",
    ")"
   ]
  },
  {
   "cell_type": "markdown",
   "metadata": {},
   "source": [
    "Exclude events with few incidents (<5)"
   ]
  },
  {
   "cell_type": "code",
   "execution_count": 26,
   "metadata": {},
   "outputs": [],
   "source": [
    "model_summary = model_summary[model_summary['Accidents'] >= 5]"
   ]
  },
  {
   "cell_type": "markdown",
   "metadata": {},
   "source": [
    "Ranking the models by safety"
   ]
  },
  {
   "cell_type": "code",
   "execution_count": 27,
   "metadata": {},
   "outputs": [
    {
     "data": {
      "text/html": [
       "<div>\n",
       "<style scoped>\n",
       "    .dataframe tbody tr th:only-of-type {\n",
       "        vertical-align: middle;\n",
       "    }\n",
       "\n",
       "    .dataframe tbody tr th {\n",
       "        vertical-align: top;\n",
       "    }\n",
       "\n",
       "    .dataframe thead th {\n",
       "        text-align: right;\n",
       "    }\n",
       "</style>\n",
       "<table border=\"1\" class=\"dataframe\">\n",
       "  <thead>\n",
       "    <tr style=\"text-align: right;\">\n",
       "      <th></th>\n",
       "      <th>Make</th>\n",
       "      <th>Model</th>\n",
       "      <th>Accidents</th>\n",
       "      <th>Avg_Fatality_Rate</th>\n",
       "      <th>Avg_Severity</th>\n",
       "      <th>Avg_Survival_Rate</th>\n",
       "      <th>Safety.Score</th>\n",
       "    </tr>\n",
       "  </thead>\n",
       "  <tbody>\n",
       "    <tr>\n",
       "      <th>15926</th>\n",
       "      <td>ROBINSON</td>\n",
       "      <td>R-44</td>\n",
       "      <td>7</td>\n",
       "      <td>0.857143</td>\n",
       "      <td>0.904762</td>\n",
       "      <td>0.000000</td>\n",
       "      <td>0.123810</td>\n",
       "    </tr>\n",
       "    <tr>\n",
       "      <th>15572</th>\n",
       "      <td>Pterodactyl</td>\n",
       "      <td>ASCENDER II</td>\n",
       "      <td>5</td>\n",
       "      <td>0.800000</td>\n",
       "      <td>0.933333</td>\n",
       "      <td>0.000000</td>\n",
       "      <td>0.146667</td>\n",
       "    </tr>\n",
       "    <tr>\n",
       "      <th>5296</th>\n",
       "      <td>CIRRUS</td>\n",
       "      <td>SR-22</td>\n",
       "      <td>6</td>\n",
       "      <td>0.833333</td>\n",
       "      <td>0.833333</td>\n",
       "      <td>0.166667</td>\n",
       "      <td>0.166667</td>\n",
       "    </tr>\n",
       "    <tr>\n",
       "      <th>465</th>\n",
       "      <td>AMERICAN AVIATION</td>\n",
       "      <td>AA-1A</td>\n",
       "      <td>7</td>\n",
       "      <td>0.833333</td>\n",
       "      <td>0.761905</td>\n",
       "      <td>0.000000</td>\n",
       "      <td>0.195238</td>\n",
       "    </tr>\n",
       "    <tr>\n",
       "      <th>9345</th>\n",
       "      <td>GULFSTREAM AMERICAN CORP</td>\n",
       "      <td>AA-5A</td>\n",
       "      <td>5</td>\n",
       "      <td>0.800000</td>\n",
       "      <td>0.800000</td>\n",
       "      <td>0.200000</td>\n",
       "      <td>0.200000</td>\n",
       "    </tr>\n",
       "    <tr>\n",
       "      <th>15192</th>\n",
       "      <td>Piper</td>\n",
       "      <td>PA-31T2</td>\n",
       "      <td>5</td>\n",
       "      <td>0.800000</td>\n",
       "      <td>0.800000</td>\n",
       "      <td>0.200000</td>\n",
       "      <td>0.200000</td>\n",
       "    </tr>\n",
       "    <tr>\n",
       "      <th>14395</th>\n",
       "      <td>PIPER</td>\n",
       "      <td>PA-31P</td>\n",
       "      <td>5</td>\n",
       "      <td>0.800000</td>\n",
       "      <td>0.800000</td>\n",
       "      <td>0.200000</td>\n",
       "      <td>0.200000</td>\n",
       "    </tr>\n",
       "    <tr>\n",
       "      <th>15990</th>\n",
       "      <td>ROCKWELL INTERNATIONAL</td>\n",
       "      <td>690B</td>\n",
       "      <td>5</td>\n",
       "      <td>0.800000</td>\n",
       "      <td>0.800000</td>\n",
       "      <td>0.200000</td>\n",
       "      <td>0.200000</td>\n",
       "    </tr>\n",
       "    <tr>\n",
       "      <th>17121</th>\n",
       "      <td>SMITH</td>\n",
       "      <td>AEROSTAR 601P</td>\n",
       "      <td>5</td>\n",
       "      <td>0.800000</td>\n",
       "      <td>0.800000</td>\n",
       "      <td>0.200000</td>\n",
       "      <td>0.200000</td>\n",
       "    </tr>\n",
       "    <tr>\n",
       "      <th>3397</th>\n",
       "      <td>Beech</td>\n",
       "      <td>V35TC</td>\n",
       "      <td>5</td>\n",
       "      <td>0.700000</td>\n",
       "      <td>0.900000</td>\n",
       "      <td>0.000000</td>\n",
       "      <td>0.220000</td>\n",
       "    </tr>\n",
       "  </tbody>\n",
       "</table>\n",
       "</div>"
      ],
      "text/plain": [
       "                           Make          Model  Accidents  Avg_Fatality_Rate  \\\n",
       "15926                  ROBINSON           R-44          7           0.857143   \n",
       "15572               Pterodactyl    ASCENDER II          5           0.800000   \n",
       "5296                     CIRRUS          SR-22          6           0.833333   \n",
       "465           AMERICAN AVIATION          AA-1A          7           0.833333   \n",
       "9345   GULFSTREAM AMERICAN CORP          AA-5A          5           0.800000   \n",
       "15192                     Piper        PA-31T2          5           0.800000   \n",
       "14395                     PIPER         PA-31P          5           0.800000   \n",
       "15990    ROCKWELL INTERNATIONAL           690B          5           0.800000   \n",
       "17121                     SMITH  AEROSTAR 601P          5           0.800000   \n",
       "3397                      Beech          V35TC          5           0.700000   \n",
       "\n",
       "       Avg_Severity  Avg_Survival_Rate  Safety.Score  \n",
       "15926      0.904762           0.000000      0.123810  \n",
       "15572      0.933333           0.000000      0.146667  \n",
       "5296       0.833333           0.166667      0.166667  \n",
       "465        0.761905           0.000000      0.195238  \n",
       "9345       0.800000           0.200000      0.200000  \n",
       "15192      0.800000           0.200000      0.200000  \n",
       "14395      0.800000           0.200000      0.200000  \n",
       "15990      0.800000           0.200000      0.200000  \n",
       "17121      0.800000           0.200000      0.200000  \n",
       "3397       0.900000           0.000000      0.220000  "
      ]
     },
     "execution_count": 27,
     "metadata": {},
     "output_type": "execute_result"
    }
   ],
   "source": [
    "safest_models = model_summary.sort_values('Safety.Score', ascending=True)\n",
    "safest_models.head(10)"
   ]
  },
  {
   "cell_type": "markdown",
   "metadata": {},
   "source": [
    "## Visual Presentation"
   ]
  },
  {
   "cell_type": "code",
   "execution_count": 28,
   "metadata": {},
   "outputs": [
    {
     "data": {
      "image/png": "[encoded data removed]",
      "text/plain": [
       "<Figure size 432x288 with 1 Axes>"
      ]
     },
     "metadata": {
      "needs_background": "light"
     },
     "output_type": "display_data"
    }
   ],
   "source": [
    "import matplotlib.pyplot as plt\n",
    "\n",
    "top = model_summary.nsmallest(10, 'Safety.Score')\n",
    "plt.barh(top['Model'], top['Safety.Score'])\n",
    "plt.xlabel('Safety Score (lower = safer)')\n",
    "plt.ylabel('Model')\n",
    "plt.title('Top 10 Safest Aircraft Models')\n",
    "plt.gca().invert_yaxis()\n",
    "plt.show()"
   ]
  },
  {
   "cell_type": "code",
   "execution_count": 29,
   "metadata": {},
   "outputs": [
    {
     "name": "stdout",
     "output_type": "stream",
     "text": [
      "15926    0.123810\n",
      "15572    0.146667\n",
      "5296     0.166667\n",
      "465      0.195238\n",
      "9345     0.200000\n",
      "14395    0.200000\n",
      "15192    0.200000\n",
      "15990    0.200000\n",
      "17121    0.200000\n",
      "3397     0.220000\n",
      "Name: Safety.Score, dtype: float64\n"
     ]
    }
   ],
   "source": [
    "print(top['Safety.Score'])"
   ]
  },
  {
   "cell_type": "markdown",
   "metadata": {},
   "source": [
    "In order to answer the second objective; Assess the key factors influencing aircraft safety and reliability, determine the relationship between accident severity/fatality rate and other variables such as weather, flight phase, and purpose of flight"
   ]
  },
  {
   "cell_type": "code",
   "execution_count": 30,
   "metadata": {},
   "outputs": [
    {
     "name": "stdout",
     "output_type": "stream",
     "text": [
      "  Weather.Clean  Accidents  Avg_Fatality  Avg_Severity\n",
      "0           IMC       5976      0.549193      0.635037\n",
      "1       Unknown       5599      0.431067      0.394443\n",
      "2           VMC      77288      0.141422      0.260170\n"
     ]
    }
   ],
   "source": [
    "#Determine which factors influence severity the most\n",
    "#Compute average fatality and severity by the integral factors\n",
    "#Start by weather;\n",
    "Weather_Summary = (\n",
    "    df_filtered.groupby('Weather.Clean')\n",
    "    .agg(\n",
    "        Accidents = ('Event.Id', 'count'),\n",
    "        Avg_Fatality = ('Fatality.Rate', 'mean'),\n",
    "        Avg_Severity = ('Severity.Index', 'mean')\n",
    "    )\n",
    "    .reset_index()\n",
    ")\n",
    "print(Weather_Summary)"
   ]
  },
  {
   "cell_type": "code",
   "execution_count": 31,
   "metadata": {},
   "outputs": [
    {
     "name": "stdout",
     "output_type": "stream",
     "text": [
      "  Phase.Group  Accidents  Avg_Fatality  Avg_Severity\n",
      "0      Cruise      10269      0.252689      0.370427\n",
      "1     Landing      23327      0.080127      0.168607\n",
      "2       Other      40816      0.253599      0.365728\n",
      "3     Takeoff      14451      0.111613      0.238525\n"
     ]
    }
   ],
   "source": [
    "#Phase of Flight\n",
    "Phase_Summary = (\n",
    "    df_filtered.groupby('Phase.Group')\n",
    "    .agg(\n",
    "        Accidents = ('Event.Id', 'count'),\n",
    "        Avg_Fatality = ('Fatality.Rate', 'mean'),\n",
    "        Avg_Severity = ('Severity.Index', 'mean')\n",
    "    )\n",
    "    .reset_index()\n",
    ")\n",
    "print(Phase_Summary)"
   ]
  },
  {
   "cell_type": "code",
   "execution_count": 32,
   "metadata": {},
   "outputs": [
    {
     "name": "stdout",
     "output_type": "stream",
     "text": [
      "      Purpose.of.flight  Accidents  Avg_Fatality  Avg_Severity\n",
      "0                  ASHO          5      0.600000      0.733333\n",
      "5         Air Race/show         59      0.426554      0.600274\n",
      "11         Firefighting         40      0.425000      0.543056\n",
      "4         Air Race show         99      0.363636      0.488215\n",
      "13           Glider Tow         53      0.245283      0.420335\n",
      "2    Aerial Observation        794      0.243165      0.400012\n",
      "7              Business       4015      0.242290      0.338644\n",
      "25              Unknown      12983      0.228770      0.274030\n",
      "3              Air Drop         11      0.227778      0.365320\n",
      "8   Executive/corporate        553      0.220475      0.294923\n"
     ]
    }
   ],
   "source": [
    "#Purpose of flight\n",
    "Purpose_Summary = (\n",
    "    df_filtered.groupby('Purpose.of.flight')\n",
    "    .agg(\n",
    "        Accidents = ('Event.Id', 'count'),\n",
    "        Avg_Fatality = ('Fatality.Rate', 'mean'),\n",
    "        Avg_Severity = ('Severity.Index', 'mean')\n",
    "    )\n",
    "    .reset_index()\n",
    "    .sort_values('Avg_Fatality', ascending=False)\n",
    ")\n",
    "print(Purpose_Summary.head(10))"
   ]
  },
  {
   "cell_type": "markdown",
   "metadata": {},
   "source": [
    "## Visual presentation"
   ]
  },
  {
   "cell_type": "code",
   "execution_count": 33,
   "metadata": {},
   "outputs": [
    {
     "data": {
      "image/png": "[encoded data removed]",
      "text/plain": [
       "<Figure size 432x288 with 1 Axes>"
      ]
     },
     "metadata": {
      "needs_background": "light"
     },
     "output_type": "display_data"
    },
    {
     "data": {
      "image/png": "[encoded data removed]",
      "text/plain": [
       "<Figure size 432x288 with 1 Axes>"
      ]
     },
     "metadata": {
      "needs_background": "light"
     },
     "output_type": "display_data"
    }
   ],
   "source": [
    "import matplotlib.pyplot as plt\n",
    "#Weather vs Severity\n",
    "plt.bar(Weather_Summary['Weather.Clean'], Weather_Summary['Avg_Severity'])\n",
    "plt.title('Average Severity by Weather Condition')\n",
    "plt.ylabel('Severity Index')\n",
    "plt.show()\n",
    "\n",
    "#Phase vs Fatality\n",
    "plt.bar(Phase_Summary['Phase.Group'], Phase_Summary['Avg_Fatality'])\n",
    "plt.title('Average Fatality Rate by Flight Phase')\n",
    "plt.ylabel('Fatality Rate')\n",
    "plt.show()"
   ]
  },
  {
   "cell_type": "markdown",
   "metadata": {},
   "source": [
    "## Proposed List of Possible Models to acquire"
   ]
  },
  {
   "cell_type": "code",
   "execution_count": 34,
   "metadata": {},
   "outputs": [],
   "source": [
    "#Focus should be on events that occured most recently\n",
    "latest = df_filtered[df_filtered['Event.Year'] >= 2005].copy()"
   ]
  },
  {
   "cell_type": "code",
   "execution_count": 35,
   "metadata": {},
   "outputs": [],
   "source": [
    "#Compute new safety summary based on latest data\n",
    "latest_summary = (\n",
    "    latest.groupby(['Make', 'Model'])\n",
    "        .agg(\n",
    "            Accidents = ('Event.Id', 'count'),\n",
    "            Avg_Fatality_Rate = ('Fatality.Rate', 'mean'),\n",
    "            Avg_Severity = ('Severity.Index', 'mean')\n",
    "        )\n",
    "        .reset_index()\n",
    ")\n",
    "latest_summary['Safety.Score'] = 0.6 * latest_summary['Avg_Fatality_Rate'] + 0.4 * latest_summary['Avg_Severity']"
   ]
  },
  {
   "cell_type": "code",
   "execution_count": 36,
   "metadata": {},
   "outputs": [
    {
     "data": {
      "text/html": [
       "<div>\n",
       "<style scoped>\n",
       "    .dataframe tbody tr th:only-of-type {\n",
       "        vertical-align: middle;\n",
       "    }\n",
       "\n",
       "    .dataframe tbody tr th {\n",
       "        vertical-align: top;\n",
       "    }\n",
       "\n",
       "    .dataframe thead th {\n",
       "        text-align: right;\n",
       "    }\n",
       "</style>\n",
       "<table border=\"1\" class=\"dataframe\">\n",
       "  <thead>\n",
       "    <tr style=\"text-align: right;\">\n",
       "      <th></th>\n",
       "      <th>Make</th>\n",
       "      <th>Model</th>\n",
       "      <th>Accidents</th>\n",
       "      <th>Avg_Fatality_Rate</th>\n",
       "      <th>Avg_Severity</th>\n",
       "      <th>Safety.Score</th>\n",
       "    </tr>\n",
       "  </thead>\n",
       "  <tbody>\n",
       "    <tr>\n",
       "      <th>2299</th>\n",
       "      <td>Boeing</td>\n",
       "      <td>747</td>\n",
       "      <td>8</td>\n",
       "      <td>0.0</td>\n",
       "      <td>0.0</td>\n",
       "      <td>0.0</td>\n",
       "    </tr>\n",
       "    <tr>\n",
       "      <th>4215</th>\n",
       "      <td>EMBRAER</td>\n",
       "      <td>EMB145</td>\n",
       "      <td>8</td>\n",
       "      <td>0.0</td>\n",
       "      <td>0.0</td>\n",
       "      <td>0.0</td>\n",
       "    </tr>\n",
       "    <tr>\n",
       "      <th>8615</th>\n",
       "      <td>Robinson</td>\n",
       "      <td>R-22 Beta II</td>\n",
       "      <td>5</td>\n",
       "      <td>0.0</td>\n",
       "      <td>0.0</td>\n",
       "      <td>0.0</td>\n",
       "    </tr>\n",
       "    <tr>\n",
       "      <th>6842</th>\n",
       "      <td>Maule</td>\n",
       "      <td>MX7</td>\n",
       "      <td>5</td>\n",
       "      <td>0.0</td>\n",
       "      <td>0.0</td>\n",
       "      <td>0.0</td>\n",
       "    </tr>\n",
       "    <tr>\n",
       "      <th>8438</th>\n",
       "      <td>ROCKWELL INTERNATIONAL</td>\n",
       "      <td>114</td>\n",
       "      <td>9</td>\n",
       "      <td>0.0</td>\n",
       "      <td>0.0</td>\n",
       "      <td>0.0</td>\n",
       "    </tr>\n",
       "    <tr>\n",
       "      <th>3907</th>\n",
       "      <td>DIAMOND AIRCRAFT IND INC</td>\n",
       "      <td>DA 20 C1</td>\n",
       "      <td>11</td>\n",
       "      <td>0.0</td>\n",
       "      <td>0.0</td>\n",
       "      <td>0.0</td>\n",
       "    </tr>\n",
       "    <tr>\n",
       "      <th>8047</th>\n",
       "      <td>Piper</td>\n",
       "      <td>PA38</td>\n",
       "      <td>5</td>\n",
       "      <td>0.0</td>\n",
       "      <td>0.0</td>\n",
       "      <td>0.0</td>\n",
       "    </tr>\n",
       "    <tr>\n",
       "      <th>7916</th>\n",
       "      <td>Piper</td>\n",
       "      <td>PA-20</td>\n",
       "      <td>8</td>\n",
       "      <td>0.0</td>\n",
       "      <td>0.0</td>\n",
       "      <td>0.0</td>\n",
       "    </tr>\n",
       "    <tr>\n",
       "      <th>2261</th>\n",
       "      <td>Boeing</td>\n",
       "      <td>717-200</td>\n",
       "      <td>8</td>\n",
       "      <td>0.0</td>\n",
       "      <td>0.0</td>\n",
       "      <td>0.0</td>\n",
       "    </tr>\n",
       "    <tr>\n",
       "      <th>4936</th>\n",
       "      <td>GREAT LAKES</td>\n",
       "      <td>2T-1A-2</td>\n",
       "      <td>6</td>\n",
       "      <td>0.0</td>\n",
       "      <td>0.0</td>\n",
       "      <td>0.0</td>\n",
       "    </tr>\n",
       "  </tbody>\n",
       "</table>\n",
       "</div>"
      ],
      "text/plain": [
       "                          Make         Model  Accidents  Avg_Fatality_Rate  \\\n",
       "2299                    Boeing           747          8                0.0   \n",
       "4215                   EMBRAER        EMB145          8                0.0   \n",
       "8615                  Robinson  R-22 Beta II          5                0.0   \n",
       "6842                     Maule           MX7          5                0.0   \n",
       "8438    ROCKWELL INTERNATIONAL           114          9                0.0   \n",
       "3907  DIAMOND AIRCRAFT IND INC      DA 20 C1         11                0.0   \n",
       "8047                     Piper          PA38          5                0.0   \n",
       "7916                     Piper         PA-20          8                0.0   \n",
       "2261                    Boeing       717-200          8                0.0   \n",
       "4936               GREAT LAKES       2T-1A-2          6                0.0   \n",
       "\n",
       "      Avg_Severity  Safety.Score  \n",
       "2299           0.0           0.0  \n",
       "4215           0.0           0.0  \n",
       "8615           0.0           0.0  \n",
       "6842           0.0           0.0  \n",
       "8438           0.0           0.0  \n",
       "3907           0.0           0.0  \n",
       "8047           0.0           0.0  \n",
       "7916           0.0           0.0  \n",
       "2261           0.0           0.0  \n",
       "4936           0.0           0.0  "
      ]
     },
     "execution_count": 36,
     "metadata": {},
     "output_type": "execute_result"
    }
   ],
   "source": [
    "Proposed_List = (\n",
    "    latest_summary\n",
    "        .query('Accidents >= 5')\n",
    "        .query('Avg_Fatality_Rate <= 0.05')\n",
    "        .query('Avg_Severity <= 0.25')\n",
    "        .sort_values('Safety.Score', ascending=True)\n",
    ")\n",
    "Proposed_List.head(10)"
   ]
  },
  {
   "cell_type": "markdown",
   "metadata": {},
   "source": [
    "Operations and Training conditions"
   ]
  },
  {
   "cell_type": "code",
   "execution_count": 37,
   "metadata": {},
   "outputs": [],
   "source": [
    "#weather risk by model\n",
    "weather_risk = (\n",
    "    df_filtered.groupby(['Make', 'Model', 'Weather.Clean'])\n",
    "        .agg(Avg_Severity = ('Severity.Index', 'mean'), Accidents = ('Event.Id', 'count'))\n",
    "        .reset_index()\n",
    ")\n",
    "#Phase risk by model\n",
    "Phase_Risk = (\n",
    "    df_filtered.groupby(['Make', 'Model', 'Phase.Group'])\n",
    "        .agg(Avg_Severity =('Severity.Index', 'mean'), Accidents = ('Event.Id', 'count'))\n",
    "        .reset_index()\n",
    ")"
   ]
  },
  {
   "cell_type": "code",
   "execution_count": 38,
   "metadata": {},
   "outputs": [
    {
     "data": {
      "text/html": [
       "<div>\n",
       "<style scoped>\n",
       "    .dataframe tbody tr th:only-of-type {\n",
       "        vertical-align: middle;\n",
       "    }\n",
       "\n",
       "    .dataframe tbody tr th {\n",
       "        vertical-align: top;\n",
       "    }\n",
       "\n",
       "    .dataframe thead th {\n",
       "        text-align: right;\n",
       "    }\n",
       "</style>\n",
       "<table border=\"1\" class=\"dataframe\">\n",
       "  <thead>\n",
       "    <tr style=\"text-align: right;\">\n",
       "      <th></th>\n",
       "      <th>Make</th>\n",
       "      <th>Model</th>\n",
       "      <th>Accidents</th>\n",
       "      <th>Avg_Fatality_Rate</th>\n",
       "      <th>Avg_Severity</th>\n",
       "      <th>Safety.Score</th>\n",
       "      <th>Top.Weather.Risk</th>\n",
       "      <th>Top.Phase.Risk</th>\n",
       "      <th>Recommendation</th>\n",
       "    </tr>\n",
       "  </thead>\n",
       "  <tbody>\n",
       "    <tr>\n",
       "      <th>0</th>\n",
       "      <td>Boeing</td>\n",
       "      <td>747</td>\n",
       "      <td>8</td>\n",
       "      <td>0.0</td>\n",
       "      <td>0.0</td>\n",
       "      <td>0.0</td>\n",
       "      <td>Unknown</td>\n",
       "      <td>Cruise</td>\n",
       "      <td>Strong safety record; good acquisition candidate.</td>\n",
       "    </tr>\n",
       "    <tr>\n",
       "      <th>1</th>\n",
       "      <td>EMBRAER</td>\n",
       "      <td>EMB145</td>\n",
       "      <td>8</td>\n",
       "      <td>0.0</td>\n",
       "      <td>0.0</td>\n",
       "      <td>0.0</td>\n",
       "      <td>IMC</td>\n",
       "      <td>Other</td>\n",
       "      <td>Strong safety record; good acquisition candidate.</td>\n",
       "    </tr>\n",
       "    <tr>\n",
       "      <th>2</th>\n",
       "      <td>Robinson</td>\n",
       "      <td>R-22 Beta II</td>\n",
       "      <td>5</td>\n",
       "      <td>0.0</td>\n",
       "      <td>0.0</td>\n",
       "      <td>0.0</td>\n",
       "      <td>VMC</td>\n",
       "      <td>Landing</td>\n",
       "      <td>Strong safety record; good acquisition candidate.</td>\n",
       "    </tr>\n",
       "    <tr>\n",
       "      <th>3</th>\n",
       "      <td>Maule</td>\n",
       "      <td>MX7</td>\n",
       "      <td>5</td>\n",
       "      <td>0.0</td>\n",
       "      <td>0.0</td>\n",
       "      <td>0.0</td>\n",
       "      <td>VMC</td>\n",
       "      <td>Other</td>\n",
       "      <td>Strong safety record; good acquisition candidate.</td>\n",
       "    </tr>\n",
       "    <tr>\n",
       "      <th>4</th>\n",
       "      <td>ROCKWELL INTERNATIONAL</td>\n",
       "      <td>114</td>\n",
       "      <td>9</td>\n",
       "      <td>0.0</td>\n",
       "      <td>0.0</td>\n",
       "      <td>0.0</td>\n",
       "      <td>IMC</td>\n",
       "      <td>Other</td>\n",
       "      <td>Strong safety record; good acquisition candidate.</td>\n",
       "    </tr>\n",
       "    <tr>\n",
       "      <th>5</th>\n",
       "      <td>DIAMOND AIRCRAFT IND INC</td>\n",
       "      <td>DA 20 C1</td>\n",
       "      <td>11</td>\n",
       "      <td>0.0</td>\n",
       "      <td>0.0</td>\n",
       "      <td>0.0</td>\n",
       "      <td>VMC</td>\n",
       "      <td>Other</td>\n",
       "      <td>Strong safety record; good acquisition candidate.</td>\n",
       "    </tr>\n",
       "    <tr>\n",
       "      <th>6</th>\n",
       "      <td>Piper</td>\n",
       "      <td>PA38</td>\n",
       "      <td>5</td>\n",
       "      <td>0.0</td>\n",
       "      <td>0.0</td>\n",
       "      <td>0.0</td>\n",
       "      <td>VMC</td>\n",
       "      <td>Cruise</td>\n",
       "      <td>Strong safety record; good acquisition candidate.</td>\n",
       "    </tr>\n",
       "    <tr>\n",
       "      <th>7</th>\n",
       "      <td>Piper</td>\n",
       "      <td>PA-20</td>\n",
       "      <td>8</td>\n",
       "      <td>0.0</td>\n",
       "      <td>0.0</td>\n",
       "      <td>0.0</td>\n",
       "      <td>VMC</td>\n",
       "      <td>Other</td>\n",
       "      <td>Strong safety record; good acquisition candidate.</td>\n",
       "    </tr>\n",
       "    <tr>\n",
       "      <th>8</th>\n",
       "      <td>Boeing</td>\n",
       "      <td>717-200</td>\n",
       "      <td>8</td>\n",
       "      <td>0.0</td>\n",
       "      <td>0.0</td>\n",
       "      <td>0.0</td>\n",
       "      <td>VMC</td>\n",
       "      <td>Landing</td>\n",
       "      <td>Strong safety record; good acquisition candidate.</td>\n",
       "    </tr>\n",
       "    <tr>\n",
       "      <th>9</th>\n",
       "      <td>GREAT LAKES</td>\n",
       "      <td>2T-1A-2</td>\n",
       "      <td>6</td>\n",
       "      <td>0.0</td>\n",
       "      <td>0.0</td>\n",
       "      <td>0.0</td>\n",
       "      <td>VMC</td>\n",
       "      <td>Other</td>\n",
       "      <td>Strong safety record; good acquisition candidate.</td>\n",
       "    </tr>\n",
       "  </tbody>\n",
       "</table>\n",
       "</div>"
      ],
      "text/plain": [
       "                       Make         Model  Accidents  Avg_Fatality_Rate  \\\n",
       "0                    Boeing           747          8                0.0   \n",
       "1                   EMBRAER        EMB145          8                0.0   \n",
       "2                  Robinson  R-22 Beta II          5                0.0   \n",
       "3                     Maule           MX7          5                0.0   \n",
       "4    ROCKWELL INTERNATIONAL           114          9                0.0   \n",
       "5  DIAMOND AIRCRAFT IND INC      DA 20 C1         11                0.0   \n",
       "6                     Piper          PA38          5                0.0   \n",
       "7                     Piper         PA-20          8                0.0   \n",
       "8                    Boeing       717-200          8                0.0   \n",
       "9               GREAT LAKES       2T-1A-2          6                0.0   \n",
       "\n",
       "   Avg_Severity  Safety.Score Top.Weather.Risk Top.Phase.Risk  \\\n",
       "0           0.0           0.0          Unknown         Cruise   \n",
       "1           0.0           0.0              IMC          Other   \n",
       "2           0.0           0.0              VMC        Landing   \n",
       "3           0.0           0.0              VMC          Other   \n",
       "4           0.0           0.0              IMC          Other   \n",
       "5           0.0           0.0              VMC          Other   \n",
       "6           0.0           0.0              VMC         Cruise   \n",
       "7           0.0           0.0              VMC          Other   \n",
       "8           0.0           0.0              VMC        Landing   \n",
       "9           0.0           0.0              VMC          Other   \n",
       "\n",
       "                                      Recommendation  \n",
       "0  Strong safety record; good acquisition candidate.  \n",
       "1  Strong safety record; good acquisition candidate.  \n",
       "2  Strong safety record; good acquisition candidate.  \n",
       "3  Strong safety record; good acquisition candidate.  \n",
       "4  Strong safety record; good acquisition candidate.  \n",
       "5  Strong safety record; good acquisition candidate.  \n",
       "6  Strong safety record; good acquisition candidate.  \n",
       "7  Strong safety record; good acquisition candidate.  \n",
       "8  Strong safety record; good acquisition candidate.  \n",
       "9  Strong safety record; good acquisition candidate.  "
      ]
     },
     "execution_count": 38,
     "metadata": {},
     "output_type": "execute_result"
    }
   ],
   "source": [
    "# Merge core safety with simple risk notes\n",
    "def risk_note(row):\n",
    "    if row['Avg_Fatality_Rate'] <= 0.02 and row['Avg_Severity'] <= 0.20:\n",
    "        return \"Strong safety record; good acquisition candidate.\"\n",
    "    if row['Avg_Fatality_Rate'] <= 0.05 and row['Avg_Severity'] <= 0.25:\n",
    "        return \"Acceptable safety; proceed with ops safeguards.\"\n",
    "    return \"Higher risk; prefer alternatives or require strong mitigations.\"\n",
    "\n",
    "recs = Proposed_List.copy()\n",
    "recs['Recommendation'] = recs.apply(risk_note, axis=1)\n",
    "\n",
    "# Optional: attach quick context from weather/phase (top risk buckets)\n",
    "w_ctx = (weather_risk.sort_values(['Make','Model','Avg_Severity'], ascending=[True,True,False])\n",
    "                   .groupby(['Make','Model']).head(1)\n",
    "                   .rename(columns={'Weather.Clean':'Top.Weather.Risk',\n",
    "                                    'Avg_Severity':'Weather.Risk.Severity'}))\n",
    "\n",
    "p_ctx = (Phase_Risk.sort_values(['Make','Model','Avg_Severity'], ascending=[True,True,False])\n",
    "                  .groupby(['Make','Model']).head(1)\n",
    "                  .rename(columns={'Phase.Group':'Top.Phase.Risk',\n",
    "                                   'Avg_Severity':'Phase.Risk.Severity'}))\n",
    "\n",
    "recs = (recs.merge(w_ctx[['Make','Model','Top.Weather.Risk','Weather.Risk.Severity']],\n",
    "                   on=['Make','Model'], how='left')\n",
    " .merge(p_ctx[['Make','Model','Top.Phase.Risk','Phase.Risk.Severity']],\n",
    "                   on=['Make','Model'], how='left'))\n",
    "\n",
    "recs[['Make','Model','Accidents','Avg_Fatality_Rate','Avg_Severity','Safety.Score',\n",
    "      'Top.Weather.Risk','Top.Phase.Risk','Recommendation']].head(10)"
   ]
  },
  {
   "cell_type": "code",
   "execution_count": null,
   "metadata": {},
   "outputs": [],
   "source": []
  }
 ],
 "metadata": {
  "kernelspec": {
   "display_name": "learn-env",
   "language": "python",
   "name": "python3"
  },
  "language_info": {
   "codemirror_mode": {
    "name": "ipython",
    "version": 3
   },
   "file_extension": ".py",
   "mimetype": "text/x-python",
   "name": "python",
   "nbconvert_exporter": "python",
   "pygments_lexer": "ipython3",
   "version": "3.8.5"
  }
 },
 "nbformat": 4,
 "nbformat_minor": 2
}
